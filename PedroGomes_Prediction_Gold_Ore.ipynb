{
 "cells": [
  {
   "cell_type": "markdown",
   "id": "936cda09",
   "metadata": {},
   "source": [
    "# Table of contents\n",
    "1. [Introduction](#introduction)\n",
    "2. [Project Description](#paragraph1)\n",
    "3. [Description of the data](#paragraph2)\n",
    "4. [Feature naming](#paragraph3)\n",
    "\n",
    "    \n",
    "## Introduction <a name=\"introduction\"></a>\n",
    "Project for Yandex Practicum Course - 2nd Integrated Project for Yandex Practicum Data Science Course\n",
    "    \n",
    "## Project Description <a name=\"paragraph1\"></a>\n",
    "\n",
    "\n",
    "+ **Main goals of the project:**\n",
    "    + Create a model to help predict the amount of gold recovered from gold ore.\n",
    "    + The model haves the main goal to optimize the process of production for the company Zyfra, i.e. eliminate unprofitable parameters;\n",
    "\n",
    "\n",
    "## Description of the data <a name=\"paragraph2\"></a>\n",
    "\n",
    "+ **Technological process**\n",
    "\n",
    "    + Rougher feed — raw material\n",
    "    + Rougher additions (or reagent additions) — flotation reagents: Xanthate, Sulphate, Depressant\n",
    "        + Xanthate — promoter or flotation activator;\n",
    "        + Sulphate — sodium sulphide for this particular process;\n",
    "        + Depressant — sodium silicate.\n",
    "    + Rougher process — flotation\n",
    "    + Rougher tails — product residues\n",
    "    + Float banks — flotation unit\n",
    "    + Cleaner process — purification\n",
    "    + Rougher Au — rougher gold concentrate\n",
    "    + Final Au — final gold concentrate\n",
    "\n",
    "+ **Parameters of stages**\n",
    "\n",
    "    + air amount — volume of air\n",
    "    + fluid levels\n",
    "    + feed size — feed particle size\n",
    "    + feed rate\n",
    "\n",
    "## Feature naming: <a name=\"paragraph3\"></a>\n",
    "    \n",
    "+ **Possible values for [stage]:**\n",
    "\n",
    "    + rougher — flotation\n",
    "    + primary_cleaner — primary purification\n",
    "    + secondary_cleaner — secondary purification\n",
    "    + final — final characteristics\n",
    "\n",
    "+ **Possible values for [parameter_type]:**\n",
    "\n",
    "    + input — raw material parameters\n",
    "    + output — product parameters\n",
    "    + state — parameters characterizing the current state of the stage\n",
    "    + calculation — calculation characteristics"
   ]
  },
  {
   "cell_type": "markdown",
   "id": "3763b0a0",
   "metadata": {},
   "source": [
    "#### 1.1. \n",
    "Open the files and look into the data."
   ]
  },
  {
   "cell_type": "code",
   "execution_count": 2,
   "id": "35dc08ae",
   "metadata": {},
   "outputs": [],
   "source": [
    "import pandas as pd\n",
    "import numpy as np\n",
    "from sklearn.model_selection import train_test_split\n",
    "from sklearn.metrics import mean_squared_error\n",
    "from sklearn.metrics import mean_squared_error\n",
    "from sklearn.metrics import r2_score\n",
    "from sklearn.model_selection import cross_val_score\n",
    "from sklearn.metrics import mean_absolute_error\n",
    "from sklearn.metrics import make_scorer\n",
    "from sklearn.model_selection import cross_val_score, GridSearchCV\n",
    "from sklearn.tree import DecisionTreeRegressor\n",
    "from sklearn.ensemble import RandomForestRegressor\n",
    "from sklearn.linear_model import LinearRegression\n",
    "from scipy import stats as st\n",
    "import seaborn as sns\n",
    "import matplotlib.pyplot as plt\n",
    "%matplotlib inline\n",
    "\n",
    "\n",
    "try:\n",
    "    df_train = pd.read_csv('gold_recovery_train.csv')\n",
    "    df_test = pd.read_csv('gold_recovery_test.csv')\n",
    "    df_full = pd.read_csv('gold_recovery_full.csv')\n",
    "    \n",
    "except:\n",
    "    df_train = pd.read_csv('/datasets/gold_recovery_train.csv')\n",
    "    df_test= pd.read_csv('/datasets/gold_recovery_test.csv')\n",
    "    df_full = pd.read_csv('/datasets/gold_recovery_full.csv')"
   ]
  },
  {
   "cell_type": "code",
   "execution_count": 3,
   "id": "1c906b3d",
   "metadata": {},
   "outputs": [
    {
     "data": {
      "text/html": [
       "<div>\n",
       "<style scoped>\n",
       "    .dataframe tbody tr th:only-of-type {\n",
       "        vertical-align: middle;\n",
       "    }\n",
       "\n",
       "    .dataframe tbody tr th {\n",
       "        vertical-align: top;\n",
       "    }\n",
       "\n",
       "    .dataframe thead th {\n",
       "        text-align: right;\n",
       "    }\n",
       "</style>\n",
       "<table border=\"1\" class=\"dataframe\">\n",
       "  <thead>\n",
       "    <tr style=\"text-align: right;\">\n",
       "      <th></th>\n",
       "      <th>date</th>\n",
       "      <th>final.output.concentrate_ag</th>\n",
       "      <th>final.output.concentrate_pb</th>\n",
       "      <th>final.output.concentrate_sol</th>\n",
       "      <th>final.output.concentrate_au</th>\n",
       "      <th>final.output.recovery</th>\n",
       "      <th>final.output.tail_ag</th>\n",
       "      <th>final.output.tail_pb</th>\n",
       "      <th>final.output.tail_sol</th>\n",
       "      <th>final.output.tail_au</th>\n",
       "      <th>...</th>\n",
       "      <th>secondary_cleaner.state.floatbank4_a_air</th>\n",
       "      <th>secondary_cleaner.state.floatbank4_a_level</th>\n",
       "      <th>secondary_cleaner.state.floatbank4_b_air</th>\n",
       "      <th>secondary_cleaner.state.floatbank4_b_level</th>\n",
       "      <th>secondary_cleaner.state.floatbank5_a_air</th>\n",
       "      <th>secondary_cleaner.state.floatbank5_a_level</th>\n",
       "      <th>secondary_cleaner.state.floatbank5_b_air</th>\n",
       "      <th>secondary_cleaner.state.floatbank5_b_level</th>\n",
       "      <th>secondary_cleaner.state.floatbank6_a_air</th>\n",
       "      <th>secondary_cleaner.state.floatbank6_a_level</th>\n",
       "    </tr>\n",
       "  </thead>\n",
       "  <tbody>\n",
       "    <tr>\n",
       "      <th>0</th>\n",
       "      <td>2016-01-15 00:00:00</td>\n",
       "      <td>6.055403</td>\n",
       "      <td>9.889648</td>\n",
       "      <td>5.507324</td>\n",
       "      <td>42.192020</td>\n",
       "      <td>70.541216</td>\n",
       "      <td>10.411962</td>\n",
       "      <td>0.895447</td>\n",
       "      <td>16.904297</td>\n",
       "      <td>2.143149</td>\n",
       "      <td>...</td>\n",
       "      <td>14.016835</td>\n",
       "      <td>-502.488007</td>\n",
       "      <td>12.099931</td>\n",
       "      <td>-504.715942</td>\n",
       "      <td>9.925633</td>\n",
       "      <td>-498.310211</td>\n",
       "      <td>8.079666</td>\n",
       "      <td>-500.470978</td>\n",
       "      <td>14.151341</td>\n",
       "      <td>-605.841980</td>\n",
       "    </tr>\n",
       "    <tr>\n",
       "      <th>1</th>\n",
       "      <td>2016-01-15 01:00:00</td>\n",
       "      <td>6.029369</td>\n",
       "      <td>9.968944</td>\n",
       "      <td>5.257781</td>\n",
       "      <td>42.701629</td>\n",
       "      <td>69.266198</td>\n",
       "      <td>10.462676</td>\n",
       "      <td>0.927452</td>\n",
       "      <td>16.634514</td>\n",
       "      <td>2.224930</td>\n",
       "      <td>...</td>\n",
       "      <td>13.992281</td>\n",
       "      <td>-505.503262</td>\n",
       "      <td>11.950531</td>\n",
       "      <td>-501.331529</td>\n",
       "      <td>10.039245</td>\n",
       "      <td>-500.169983</td>\n",
       "      <td>7.984757</td>\n",
       "      <td>-500.582168</td>\n",
       "      <td>13.998353</td>\n",
       "      <td>-599.787184</td>\n",
       "    </tr>\n",
       "    <tr>\n",
       "      <th>2</th>\n",
       "      <td>2016-01-15 02:00:00</td>\n",
       "      <td>6.055926</td>\n",
       "      <td>10.213995</td>\n",
       "      <td>5.383759</td>\n",
       "      <td>42.657501</td>\n",
       "      <td>68.116445</td>\n",
       "      <td>10.507046</td>\n",
       "      <td>0.953716</td>\n",
       "      <td>16.208849</td>\n",
       "      <td>2.257889</td>\n",
       "      <td>...</td>\n",
       "      <td>14.015015</td>\n",
       "      <td>-502.520901</td>\n",
       "      <td>11.912783</td>\n",
       "      <td>-501.133383</td>\n",
       "      <td>10.070913</td>\n",
       "      <td>-500.129135</td>\n",
       "      <td>8.013877</td>\n",
       "      <td>-500.517572</td>\n",
       "      <td>14.028663</td>\n",
       "      <td>-601.427363</td>\n",
       "    </tr>\n",
       "    <tr>\n",
       "      <th>3</th>\n",
       "      <td>2016-01-15 03:00:00</td>\n",
       "      <td>6.047977</td>\n",
       "      <td>9.977019</td>\n",
       "      <td>4.858634</td>\n",
       "      <td>42.689819</td>\n",
       "      <td>68.347543</td>\n",
       "      <td>10.422762</td>\n",
       "      <td>0.883763</td>\n",
       "      <td>16.532835</td>\n",
       "      <td>2.146849</td>\n",
       "      <td>...</td>\n",
       "      <td>14.036510</td>\n",
       "      <td>-500.857308</td>\n",
       "      <td>11.999550</td>\n",
       "      <td>-501.193686</td>\n",
       "      <td>9.970366</td>\n",
       "      <td>-499.201640</td>\n",
       "      <td>7.977324</td>\n",
       "      <td>-500.255908</td>\n",
       "      <td>14.005551</td>\n",
       "      <td>-599.996129</td>\n",
       "    </tr>\n",
       "    <tr>\n",
       "      <th>4</th>\n",
       "      <td>2016-01-15 04:00:00</td>\n",
       "      <td>6.148599</td>\n",
       "      <td>10.142511</td>\n",
       "      <td>4.939416</td>\n",
       "      <td>42.774141</td>\n",
       "      <td>66.927016</td>\n",
       "      <td>10.360302</td>\n",
       "      <td>0.792826</td>\n",
       "      <td>16.525686</td>\n",
       "      <td>2.055292</td>\n",
       "      <td>...</td>\n",
       "      <td>14.027298</td>\n",
       "      <td>-499.838632</td>\n",
       "      <td>11.953070</td>\n",
       "      <td>-501.053894</td>\n",
       "      <td>9.925709</td>\n",
       "      <td>-501.686727</td>\n",
       "      <td>7.894242</td>\n",
       "      <td>-500.356035</td>\n",
       "      <td>13.996647</td>\n",
       "      <td>-601.496691</td>\n",
       "    </tr>\n",
       "  </tbody>\n",
       "</table>\n",
       "<p>5 rows × 87 columns</p>\n",
       "</div>"
      ],
      "text/plain": [
       "                  date  final.output.concentrate_ag  \\\n",
       "0  2016-01-15 00:00:00                     6.055403   \n",
       "1  2016-01-15 01:00:00                     6.029369   \n",
       "2  2016-01-15 02:00:00                     6.055926   \n",
       "3  2016-01-15 03:00:00                     6.047977   \n",
       "4  2016-01-15 04:00:00                     6.148599   \n",
       "\n",
       "   final.output.concentrate_pb  final.output.concentrate_sol  \\\n",
       "0                     9.889648                      5.507324   \n",
       "1                     9.968944                      5.257781   \n",
       "2                    10.213995                      5.383759   \n",
       "3                     9.977019                      4.858634   \n",
       "4                    10.142511                      4.939416   \n",
       "\n",
       "   final.output.concentrate_au  final.output.recovery  final.output.tail_ag  \\\n",
       "0                    42.192020              70.541216             10.411962   \n",
       "1                    42.701629              69.266198             10.462676   \n",
       "2                    42.657501              68.116445             10.507046   \n",
       "3                    42.689819              68.347543             10.422762   \n",
       "4                    42.774141              66.927016             10.360302   \n",
       "\n",
       "   final.output.tail_pb  final.output.tail_sol  final.output.tail_au  ...  \\\n",
       "0              0.895447              16.904297              2.143149  ...   \n",
       "1              0.927452              16.634514              2.224930  ...   \n",
       "2              0.953716              16.208849              2.257889  ...   \n",
       "3              0.883763              16.532835              2.146849  ...   \n",
       "4              0.792826              16.525686              2.055292  ...   \n",
       "\n",
       "   secondary_cleaner.state.floatbank4_a_air  \\\n",
       "0                                 14.016835   \n",
       "1                                 13.992281   \n",
       "2                                 14.015015   \n",
       "3                                 14.036510   \n",
       "4                                 14.027298   \n",
       "\n",
       "   secondary_cleaner.state.floatbank4_a_level  \\\n",
       "0                                 -502.488007   \n",
       "1                                 -505.503262   \n",
       "2                                 -502.520901   \n",
       "3                                 -500.857308   \n",
       "4                                 -499.838632   \n",
       "\n",
       "   secondary_cleaner.state.floatbank4_b_air  \\\n",
       "0                                 12.099931   \n",
       "1                                 11.950531   \n",
       "2                                 11.912783   \n",
       "3                                 11.999550   \n",
       "4                                 11.953070   \n",
       "\n",
       "   secondary_cleaner.state.floatbank4_b_level  \\\n",
       "0                                 -504.715942   \n",
       "1                                 -501.331529   \n",
       "2                                 -501.133383   \n",
       "3                                 -501.193686   \n",
       "4                                 -501.053894   \n",
       "\n",
       "   secondary_cleaner.state.floatbank5_a_air  \\\n",
       "0                                  9.925633   \n",
       "1                                 10.039245   \n",
       "2                                 10.070913   \n",
       "3                                  9.970366   \n",
       "4                                  9.925709   \n",
       "\n",
       "   secondary_cleaner.state.floatbank5_a_level  \\\n",
       "0                                 -498.310211   \n",
       "1                                 -500.169983   \n",
       "2                                 -500.129135   \n",
       "3                                 -499.201640   \n",
       "4                                 -501.686727   \n",
       "\n",
       "   secondary_cleaner.state.floatbank5_b_air  \\\n",
       "0                                  8.079666   \n",
       "1                                  7.984757   \n",
       "2                                  8.013877   \n",
       "3                                  7.977324   \n",
       "4                                  7.894242   \n",
       "\n",
       "   secondary_cleaner.state.floatbank5_b_level  \\\n",
       "0                                 -500.470978   \n",
       "1                                 -500.582168   \n",
       "2                                 -500.517572   \n",
       "3                                 -500.255908   \n",
       "4                                 -500.356035   \n",
       "\n",
       "   secondary_cleaner.state.floatbank6_a_air  \\\n",
       "0                                 14.151341   \n",
       "1                                 13.998353   \n",
       "2                                 14.028663   \n",
       "3                                 14.005551   \n",
       "4                                 13.996647   \n",
       "\n",
       "   secondary_cleaner.state.floatbank6_a_level  \n",
       "0                                 -605.841980  \n",
       "1                                 -599.787184  \n",
       "2                                 -601.427363  \n",
       "3                                 -599.996129  \n",
       "4                                 -601.496691  \n",
       "\n",
       "[5 rows x 87 columns]"
      ]
     },
     "execution_count": 3,
     "metadata": {},
     "output_type": "execute_result"
    }
   ],
   "source": [
    "df_train.head()"
   ]
  },
  {
   "cell_type": "code",
   "execution_count": 4,
   "id": "47f5064d",
   "metadata": {},
   "outputs": [
    {
     "name": "stdout",
     "output_type": "stream",
     "text": [
      "<class 'pandas.core.frame.DataFrame'>\n",
      "RangeIndex: 16860 entries, 0 to 16859\n",
      "Data columns (total 87 columns):\n",
      " #   Column                                              Non-Null Count  Dtype  \n",
      "---  ------                                              --------------  -----  \n",
      " 0   date                                                16860 non-null  object \n",
      " 1   final.output.concentrate_ag                         16788 non-null  float64\n",
      " 2   final.output.concentrate_pb                         16788 non-null  float64\n",
      " 3   final.output.concentrate_sol                        16490 non-null  float64\n",
      " 4   final.output.concentrate_au                         16789 non-null  float64\n",
      " 5   final.output.recovery                               15339 non-null  float64\n",
      " 6   final.output.tail_ag                                16794 non-null  float64\n",
      " 7   final.output.tail_pb                                16677 non-null  float64\n",
      " 8   final.output.tail_sol                               16715 non-null  float64\n",
      " 9   final.output.tail_au                                16794 non-null  float64\n",
      " 10  primary_cleaner.input.sulfate                       15553 non-null  float64\n",
      " 11  primary_cleaner.input.depressant                    15598 non-null  float64\n",
      " 12  primary_cleaner.input.feed_size                     16860 non-null  float64\n",
      " 13  primary_cleaner.input.xanthate                      15875 non-null  float64\n",
      " 14  primary_cleaner.output.concentrate_ag               16778 non-null  float64\n",
      " 15  primary_cleaner.output.concentrate_pb               16502 non-null  float64\n",
      " 16  primary_cleaner.output.concentrate_sol              16224 non-null  float64\n",
      " 17  primary_cleaner.output.concentrate_au               16778 non-null  float64\n",
      " 18  primary_cleaner.output.tail_ag                      16777 non-null  float64\n",
      " 19  primary_cleaner.output.tail_pb                      16761 non-null  float64\n",
      " 20  primary_cleaner.output.tail_sol                     16579 non-null  float64\n",
      " 21  primary_cleaner.output.tail_au                      16777 non-null  float64\n",
      " 22  primary_cleaner.state.floatbank8_a_air              16820 non-null  float64\n",
      " 23  primary_cleaner.state.floatbank8_a_level            16827 non-null  float64\n",
      " 24  primary_cleaner.state.floatbank8_b_air              16820 non-null  float64\n",
      " 25  primary_cleaner.state.floatbank8_b_level            16833 non-null  float64\n",
      " 26  primary_cleaner.state.floatbank8_c_air              16822 non-null  float64\n",
      " 27  primary_cleaner.state.floatbank8_c_level            16833 non-null  float64\n",
      " 28  primary_cleaner.state.floatbank8_d_air              16821 non-null  float64\n",
      " 29  primary_cleaner.state.floatbank8_d_level            16833 non-null  float64\n",
      " 30  rougher.calculation.sulfate_to_au_concentrate       16833 non-null  float64\n",
      " 31  rougher.calculation.floatbank10_sulfate_to_au_feed  16833 non-null  float64\n",
      " 32  rougher.calculation.floatbank11_sulfate_to_au_feed  16833 non-null  float64\n",
      " 33  rougher.calculation.au_pb_ratio                     15618 non-null  float64\n",
      " 34  rougher.input.feed_ag                               16778 non-null  float64\n",
      " 35  rougher.input.feed_pb                               16632 non-null  float64\n",
      " 36  rougher.input.feed_rate                             16347 non-null  float64\n",
      " 37  rougher.input.feed_size                             16443 non-null  float64\n",
      " 38  rougher.input.feed_sol                              16568 non-null  float64\n",
      " 39  rougher.input.feed_au                               16777 non-null  float64\n",
      " 40  rougher.input.floatbank10_sulfate                   15816 non-null  float64\n",
      " 41  rougher.input.floatbank10_xanthate                  16514 non-null  float64\n",
      " 42  rougher.input.floatbank11_sulfate                   16237 non-null  float64\n",
      " 43  rougher.input.floatbank11_xanthate                  14956 non-null  float64\n",
      " 44  rougher.output.concentrate_ag                       16778 non-null  float64\n",
      " 45  rougher.output.concentrate_pb                       16778 non-null  float64\n",
      " 46  rougher.output.concentrate_sol                      16698 non-null  float64\n",
      " 47  rougher.output.concentrate_au                       16778 non-null  float64\n",
      " 48  rougher.output.recovery                             14287 non-null  float64\n",
      " 49  rougher.output.tail_ag                              14610 non-null  float64\n",
      " 50  rougher.output.tail_pb                              16778 non-null  float64\n",
      " 51  rougher.output.tail_sol                             14611 non-null  float64\n",
      " 52  rougher.output.tail_au                              14611 non-null  float64\n",
      " 53  rougher.state.floatbank10_a_air                     16807 non-null  float64\n",
      " 54  rougher.state.floatbank10_a_level                   16807 non-null  float64\n",
      " 55  rougher.state.floatbank10_b_air                     16807 non-null  float64\n",
      " 56  rougher.state.floatbank10_b_level                   16807 non-null  float64\n",
      " 57  rougher.state.floatbank10_c_air                     16807 non-null  float64\n",
      " 58  rougher.state.floatbank10_c_level                   16814 non-null  float64\n",
      " 59  rougher.state.floatbank10_d_air                     16802 non-null  float64\n",
      " 60  rougher.state.floatbank10_d_level                   16809 non-null  float64\n",
      " 61  rougher.state.floatbank10_e_air                     16257 non-null  float64\n",
      " 62  rougher.state.floatbank10_e_level                   16809 non-null  float64\n",
      " 63  rougher.state.floatbank10_f_air                     16802 non-null  float64\n",
      " 64  rougher.state.floatbank10_f_level                   16802 non-null  float64\n",
      " 65  secondary_cleaner.output.tail_ag                    16776 non-null  float64\n",
      " 66  secondary_cleaner.output.tail_pb                    16764 non-null  float64\n",
      " 67  secondary_cleaner.output.tail_sol                   14874 non-null  float64\n",
      " 68  secondary_cleaner.output.tail_au                    16778 non-null  float64\n",
      " 69  secondary_cleaner.state.floatbank2_a_air            16497 non-null  float64\n",
      " 70  secondary_cleaner.state.floatbank2_a_level          16751 non-null  float64\n",
      " 71  secondary_cleaner.state.floatbank2_b_air            16705 non-null  float64\n",
      " 72  secondary_cleaner.state.floatbank2_b_level          16748 non-null  float64\n",
      " 73  secondary_cleaner.state.floatbank3_a_air            16763 non-null  float64\n",
      " 74  secondary_cleaner.state.floatbank3_a_level          16747 non-null  float64\n",
      " 75  secondary_cleaner.state.floatbank3_b_air            16752 non-null  float64\n",
      " 76  secondary_cleaner.state.floatbank3_b_level          16750 non-null  float64\n",
      " 77  secondary_cleaner.state.floatbank4_a_air            16731 non-null  float64\n",
      " 78  secondary_cleaner.state.floatbank4_a_level          16747 non-null  float64\n",
      " 79  secondary_cleaner.state.floatbank4_b_air            16768 non-null  float64\n",
      " 80  secondary_cleaner.state.floatbank4_b_level          16767 non-null  float64\n",
      " 81  secondary_cleaner.state.floatbank5_a_air            16775 non-null  float64\n",
      " 82  secondary_cleaner.state.floatbank5_a_level          16775 non-null  float64\n",
      " 83  secondary_cleaner.state.floatbank5_b_air            16775 non-null  float64\n",
      " 84  secondary_cleaner.state.floatbank5_b_level          16776 non-null  float64\n",
      " 85  secondary_cleaner.state.floatbank6_a_air            16757 non-null  float64\n",
      " 86  secondary_cleaner.state.floatbank6_a_level          16775 non-null  float64\n",
      "dtypes: float64(86), object(1)\n",
      "memory usage: 11.2+ MB\n"
     ]
    }
   ],
   "source": [
    "df_train.info()"
   ]
  },
  {
   "cell_type": "code",
   "execution_count": 6,
   "id": "ca381fca",
   "metadata": {
    "scrolled": true
   },
   "outputs": [
    {
     "data": {
      "text/html": [
       "<div>\n",
       "<style scoped>\n",
       "    .dataframe tbody tr th:only-of-type {\n",
       "        vertical-align: middle;\n",
       "    }\n",
       "\n",
       "    .dataframe tbody tr th {\n",
       "        vertical-align: top;\n",
       "    }\n",
       "\n",
       "    .dataframe thead th {\n",
       "        text-align: right;\n",
       "    }\n",
       "</style>\n",
       "<table border=\"1\" class=\"dataframe\">\n",
       "  <thead>\n",
       "    <tr style=\"text-align: right;\">\n",
       "      <th></th>\n",
       "      <th>final.output.concentrate_ag</th>\n",
       "      <th>final.output.concentrate_pb</th>\n",
       "      <th>final.output.concentrate_sol</th>\n",
       "      <th>final.output.concentrate_au</th>\n",
       "      <th>final.output.recovery</th>\n",
       "      <th>final.output.tail_ag</th>\n",
       "      <th>final.output.tail_pb</th>\n",
       "      <th>final.output.tail_sol</th>\n",
       "      <th>final.output.tail_au</th>\n",
       "      <th>primary_cleaner.input.sulfate</th>\n",
       "      <th>...</th>\n",
       "      <th>secondary_cleaner.state.floatbank4_a_air</th>\n",
       "      <th>secondary_cleaner.state.floatbank4_a_level</th>\n",
       "      <th>secondary_cleaner.state.floatbank4_b_air</th>\n",
       "      <th>secondary_cleaner.state.floatbank4_b_level</th>\n",
       "      <th>secondary_cleaner.state.floatbank5_a_air</th>\n",
       "      <th>secondary_cleaner.state.floatbank5_a_level</th>\n",
       "      <th>secondary_cleaner.state.floatbank5_b_air</th>\n",
       "      <th>secondary_cleaner.state.floatbank5_b_level</th>\n",
       "      <th>secondary_cleaner.state.floatbank6_a_air</th>\n",
       "      <th>secondary_cleaner.state.floatbank6_a_level</th>\n",
       "    </tr>\n",
       "  </thead>\n",
       "  <tbody>\n",
       "    <tr>\n",
       "      <th>count</th>\n",
       "      <td>16788.000000</td>\n",
       "      <td>16788.000000</td>\n",
       "      <td>16490.000000</td>\n",
       "      <td>16789.000000</td>\n",
       "      <td>15339.000000</td>\n",
       "      <td>16794.000000</td>\n",
       "      <td>16677.000000</td>\n",
       "      <td>16715.000000</td>\n",
       "      <td>16794.000000</td>\n",
       "      <td>15553.000000</td>\n",
       "      <td>...</td>\n",
       "      <td>16731.000000</td>\n",
       "      <td>16747.000000</td>\n",
       "      <td>16768.000000</td>\n",
       "      <td>16767.000000</td>\n",
       "      <td>16775.000000</td>\n",
       "      <td>16775.000000</td>\n",
       "      <td>16775.000000</td>\n",
       "      <td>16776.000000</td>\n",
       "      <td>16757.000000</td>\n",
       "      <td>16775.000000</td>\n",
       "    </tr>\n",
       "    <tr>\n",
       "      <th>mean</th>\n",
       "      <td>4.716907</td>\n",
       "      <td>9.113559</td>\n",
       "      <td>8.301123</td>\n",
       "      <td>39.467217</td>\n",
       "      <td>67.213166</td>\n",
       "      <td>8.757048</td>\n",
       "      <td>2.360327</td>\n",
       "      <td>9.303932</td>\n",
       "      <td>2.687512</td>\n",
       "      <td>129.479789</td>\n",
       "      <td>...</td>\n",
       "      <td>19.101874</td>\n",
       "      <td>-494.164481</td>\n",
       "      <td>14.778164</td>\n",
       "      <td>-476.600082</td>\n",
       "      <td>15.779488</td>\n",
       "      <td>-500.230146</td>\n",
       "      <td>12.377241</td>\n",
       "      <td>-498.956257</td>\n",
       "      <td>18.429208</td>\n",
       "      <td>-521.801826</td>\n",
       "    </tr>\n",
       "    <tr>\n",
       "      <th>std</th>\n",
       "      <td>2.096718</td>\n",
       "      <td>3.389495</td>\n",
       "      <td>3.825760</td>\n",
       "      <td>13.917227</td>\n",
       "      <td>11.960446</td>\n",
       "      <td>3.634103</td>\n",
       "      <td>1.215576</td>\n",
       "      <td>4.263208</td>\n",
       "      <td>1.272757</td>\n",
       "      <td>45.386931</td>\n",
       "      <td>...</td>\n",
       "      <td>6.883163</td>\n",
       "      <td>84.803334</td>\n",
       "      <td>5.999149</td>\n",
       "      <td>89.381172</td>\n",
       "      <td>6.834703</td>\n",
       "      <td>76.983542</td>\n",
       "      <td>6.219989</td>\n",
       "      <td>82.146207</td>\n",
       "      <td>6.958294</td>\n",
       "      <td>77.170888</td>\n",
       "    </tr>\n",
       "    <tr>\n",
       "      <th>min</th>\n",
       "      <td>0.000000</td>\n",
       "      <td>0.000000</td>\n",
       "      <td>0.000000</td>\n",
       "      <td>0.000000</td>\n",
       "      <td>0.000000</td>\n",
       "      <td>0.000000</td>\n",
       "      <td>0.000000</td>\n",
       "      <td>0.000000</td>\n",
       "      <td>0.000000</td>\n",
       "      <td>0.000003</td>\n",
       "      <td>...</td>\n",
       "      <td>0.000000</td>\n",
       "      <td>-799.920713</td>\n",
       "      <td>0.000000</td>\n",
       "      <td>-800.021781</td>\n",
       "      <td>-0.423260</td>\n",
       "      <td>-799.741097</td>\n",
       "      <td>0.427084</td>\n",
       "      <td>-800.258209</td>\n",
       "      <td>0.024270</td>\n",
       "      <td>-810.473526</td>\n",
       "    </tr>\n",
       "    <tr>\n",
       "      <th>25%</th>\n",
       "      <td>3.971262</td>\n",
       "      <td>8.825748</td>\n",
       "      <td>6.939185</td>\n",
       "      <td>42.055722</td>\n",
       "      <td>62.625685</td>\n",
       "      <td>7.610544</td>\n",
       "      <td>1.641604</td>\n",
       "      <td>7.870275</td>\n",
       "      <td>2.172953</td>\n",
       "      <td>103.064021</td>\n",
       "      <td>...</td>\n",
       "      <td>14.508299</td>\n",
       "      <td>-500.837689</td>\n",
       "      <td>10.741388</td>\n",
       "      <td>-500.269182</td>\n",
       "      <td>10.977713</td>\n",
       "      <td>-500.530594</td>\n",
       "      <td>8.925586</td>\n",
       "      <td>-500.147603</td>\n",
       "      <td>13.977626</td>\n",
       "      <td>-501.080595</td>\n",
       "    </tr>\n",
       "    <tr>\n",
       "      <th>50%</th>\n",
       "      <td>4.869346</td>\n",
       "      <td>10.065316</td>\n",
       "      <td>8.557228</td>\n",
       "      <td>44.498874</td>\n",
       "      <td>67.644601</td>\n",
       "      <td>9.220393</td>\n",
       "      <td>2.453690</td>\n",
       "      <td>10.021968</td>\n",
       "      <td>2.781132</td>\n",
       "      <td>131.783108</td>\n",
       "      <td>...</td>\n",
       "      <td>19.986958</td>\n",
       "      <td>-499.778379</td>\n",
       "      <td>14.943933</td>\n",
       "      <td>-499.593286</td>\n",
       "      <td>15.998340</td>\n",
       "      <td>-499.784231</td>\n",
       "      <td>11.092839</td>\n",
       "      <td>-499.933330</td>\n",
       "      <td>18.034960</td>\n",
       "      <td>-500.109898</td>\n",
       "    </tr>\n",
       "    <tr>\n",
       "      <th>75%</th>\n",
       "      <td>5.821176</td>\n",
       "      <td>11.054809</td>\n",
       "      <td>10.289741</td>\n",
       "      <td>45.976222</td>\n",
       "      <td>72.824595</td>\n",
       "      <td>10.971110</td>\n",
       "      <td>3.192404</td>\n",
       "      <td>11.648573</td>\n",
       "      <td>3.416936</td>\n",
       "      <td>159.539839</td>\n",
       "      <td>...</td>\n",
       "      <td>24.983961</td>\n",
       "      <td>-494.648754</td>\n",
       "      <td>20.023751</td>\n",
       "      <td>-400.137948</td>\n",
       "      <td>20.000701</td>\n",
       "      <td>-496.531781</td>\n",
       "      <td>15.979467</td>\n",
       "      <td>-498.418000</td>\n",
       "      <td>24.984992</td>\n",
       "      <td>-499.565540</td>\n",
       "    </tr>\n",
       "    <tr>\n",
       "      <th>max</th>\n",
       "      <td>16.001945</td>\n",
       "      <td>17.031899</td>\n",
       "      <td>18.124851</td>\n",
       "      <td>53.611374</td>\n",
       "      <td>100.000000</td>\n",
       "      <td>19.552149</td>\n",
       "      <td>6.086532</td>\n",
       "      <td>22.317730</td>\n",
       "      <td>9.789625</td>\n",
       "      <td>251.999948</td>\n",
       "      <td>...</td>\n",
       "      <td>60.000000</td>\n",
       "      <td>-127.692333</td>\n",
       "      <td>28.003828</td>\n",
       "      <td>-71.472472</td>\n",
       "      <td>63.116298</td>\n",
       "      <td>-275.073125</td>\n",
       "      <td>39.846228</td>\n",
       "      <td>-120.190931</td>\n",
       "      <td>54.876806</td>\n",
       "      <td>-39.784927</td>\n",
       "    </tr>\n",
       "  </tbody>\n",
       "</table>\n",
       "<p>8 rows × 86 columns</p>\n",
       "</div>"
      ],
      "text/plain": [
       "       final.output.concentrate_ag  final.output.concentrate_pb  \\\n",
       "count                 16788.000000                 16788.000000   \n",
       "mean                      4.716907                     9.113559   \n",
       "std                       2.096718                     3.389495   \n",
       "min                       0.000000                     0.000000   \n",
       "25%                       3.971262                     8.825748   \n",
       "50%                       4.869346                    10.065316   \n",
       "75%                       5.821176                    11.054809   \n",
       "max                      16.001945                    17.031899   \n",
       "\n",
       "       final.output.concentrate_sol  final.output.concentrate_au  \\\n",
       "count                  16490.000000                 16789.000000   \n",
       "mean                       8.301123                    39.467217   \n",
       "std                        3.825760                    13.917227   \n",
       "min                        0.000000                     0.000000   \n",
       "25%                        6.939185                    42.055722   \n",
       "50%                        8.557228                    44.498874   \n",
       "75%                       10.289741                    45.976222   \n",
       "max                       18.124851                    53.611374   \n",
       "\n",
       "       final.output.recovery  final.output.tail_ag  final.output.tail_pb  \\\n",
       "count           15339.000000          16794.000000          16677.000000   \n",
       "mean               67.213166              8.757048              2.360327   \n",
       "std                11.960446              3.634103              1.215576   \n",
       "min                 0.000000              0.000000              0.000000   \n",
       "25%                62.625685              7.610544              1.641604   \n",
       "50%                67.644601              9.220393              2.453690   \n",
       "75%                72.824595             10.971110              3.192404   \n",
       "max               100.000000             19.552149              6.086532   \n",
       "\n",
       "       final.output.tail_sol  final.output.tail_au  \\\n",
       "count           16715.000000          16794.000000   \n",
       "mean                9.303932              2.687512   \n",
       "std                 4.263208              1.272757   \n",
       "min                 0.000000              0.000000   \n",
       "25%                 7.870275              2.172953   \n",
       "50%                10.021968              2.781132   \n",
       "75%                11.648573              3.416936   \n",
       "max                22.317730              9.789625   \n",
       "\n",
       "       primary_cleaner.input.sulfate  ...  \\\n",
       "count                   15553.000000  ...   \n",
       "mean                      129.479789  ...   \n",
       "std                        45.386931  ...   \n",
       "min                         0.000003  ...   \n",
       "25%                       103.064021  ...   \n",
       "50%                       131.783108  ...   \n",
       "75%                       159.539839  ...   \n",
       "max                       251.999948  ...   \n",
       "\n",
       "       secondary_cleaner.state.floatbank4_a_air  \\\n",
       "count                              16731.000000   \n",
       "mean                                  19.101874   \n",
       "std                                    6.883163   \n",
       "min                                    0.000000   \n",
       "25%                                   14.508299   \n",
       "50%                                   19.986958   \n",
       "75%                                   24.983961   \n",
       "max                                   60.000000   \n",
       "\n",
       "       secondary_cleaner.state.floatbank4_a_level  \\\n",
       "count                                16747.000000   \n",
       "mean                                  -494.164481   \n",
       "std                                     84.803334   \n",
       "min                                   -799.920713   \n",
       "25%                                   -500.837689   \n",
       "50%                                   -499.778379   \n",
       "75%                                   -494.648754   \n",
       "max                                   -127.692333   \n",
       "\n",
       "       secondary_cleaner.state.floatbank4_b_air  \\\n",
       "count                              16768.000000   \n",
       "mean                                  14.778164   \n",
       "std                                    5.999149   \n",
       "min                                    0.000000   \n",
       "25%                                   10.741388   \n",
       "50%                                   14.943933   \n",
       "75%                                   20.023751   \n",
       "max                                   28.003828   \n",
       "\n",
       "       secondary_cleaner.state.floatbank4_b_level  \\\n",
       "count                                16767.000000   \n",
       "mean                                  -476.600082   \n",
       "std                                     89.381172   \n",
       "min                                   -800.021781   \n",
       "25%                                   -500.269182   \n",
       "50%                                   -499.593286   \n",
       "75%                                   -400.137948   \n",
       "max                                    -71.472472   \n",
       "\n",
       "       secondary_cleaner.state.floatbank5_a_air  \\\n",
       "count                              16775.000000   \n",
       "mean                                  15.779488   \n",
       "std                                    6.834703   \n",
       "min                                   -0.423260   \n",
       "25%                                   10.977713   \n",
       "50%                                   15.998340   \n",
       "75%                                   20.000701   \n",
       "max                                   63.116298   \n",
       "\n",
       "       secondary_cleaner.state.floatbank5_a_level  \\\n",
       "count                                16775.000000   \n",
       "mean                                  -500.230146   \n",
       "std                                     76.983542   \n",
       "min                                   -799.741097   \n",
       "25%                                   -500.530594   \n",
       "50%                                   -499.784231   \n",
       "75%                                   -496.531781   \n",
       "max                                   -275.073125   \n",
       "\n",
       "       secondary_cleaner.state.floatbank5_b_air  \\\n",
       "count                              16775.000000   \n",
       "mean                                  12.377241   \n",
       "std                                    6.219989   \n",
       "min                                    0.427084   \n",
       "25%                                    8.925586   \n",
       "50%                                   11.092839   \n",
       "75%                                   15.979467   \n",
       "max                                   39.846228   \n",
       "\n",
       "       secondary_cleaner.state.floatbank5_b_level  \\\n",
       "count                                16776.000000   \n",
       "mean                                  -498.956257   \n",
       "std                                     82.146207   \n",
       "min                                   -800.258209   \n",
       "25%                                   -500.147603   \n",
       "50%                                   -499.933330   \n",
       "75%                                   -498.418000   \n",
       "max                                   -120.190931   \n",
       "\n",
       "       secondary_cleaner.state.floatbank6_a_air  \\\n",
       "count                              16757.000000   \n",
       "mean                                  18.429208   \n",
       "std                                    6.958294   \n",
       "min                                    0.024270   \n",
       "25%                                   13.977626   \n",
       "50%                                   18.034960   \n",
       "75%                                   24.984992   \n",
       "max                                   54.876806   \n",
       "\n",
       "       secondary_cleaner.state.floatbank6_a_level  \n",
       "count                                16775.000000  \n",
       "mean                                  -521.801826  \n",
       "std                                     77.170888  \n",
       "min                                   -810.473526  \n",
       "25%                                   -501.080595  \n",
       "50%                                   -500.109898  \n",
       "75%                                   -499.565540  \n",
       "max                                    -39.784927  \n",
       "\n",
       "[8 rows x 86 columns]"
      ]
     },
     "execution_count": 6,
     "metadata": {},
     "output_type": "execute_result"
    }
   ],
   "source": [
    "df_train.describe()"
   ]
  },
  {
   "cell_type": "code",
   "execution_count": 7,
   "id": "f9a2e205",
   "metadata": {},
   "outputs": [
    {
     "name": "stdout",
     "output_type": "stream",
     "text": [
      "<class 'pandas.core.frame.DataFrame'>\n",
      "RangeIndex: 5856 entries, 0 to 5855\n",
      "Data columns (total 53 columns):\n",
      " #   Column                                      Non-Null Count  Dtype  \n",
      "---  ------                                      --------------  -----  \n",
      " 0   date                                        5856 non-null   object \n",
      " 1   primary_cleaner.input.sulfate               5554 non-null   float64\n",
      " 2   primary_cleaner.input.depressant            5572 non-null   float64\n",
      " 3   primary_cleaner.input.feed_size             5856 non-null   float64\n",
      " 4   primary_cleaner.input.xanthate              5690 non-null   float64\n",
      " 5   primary_cleaner.state.floatbank8_a_air      5840 non-null   float64\n",
      " 6   primary_cleaner.state.floatbank8_a_level    5840 non-null   float64\n",
      " 7   primary_cleaner.state.floatbank8_b_air      5840 non-null   float64\n",
      " 8   primary_cleaner.state.floatbank8_b_level    5840 non-null   float64\n",
      " 9   primary_cleaner.state.floatbank8_c_air      5840 non-null   float64\n",
      " 10  primary_cleaner.state.floatbank8_c_level    5840 non-null   float64\n",
      " 11  primary_cleaner.state.floatbank8_d_air      5840 non-null   float64\n",
      " 12  primary_cleaner.state.floatbank8_d_level    5840 non-null   float64\n",
      " 13  rougher.input.feed_ag                       5840 non-null   float64\n",
      " 14  rougher.input.feed_pb                       5840 non-null   float64\n",
      " 15  rougher.input.feed_rate                     5816 non-null   float64\n",
      " 16  rougher.input.feed_size                     5834 non-null   float64\n",
      " 17  rougher.input.feed_sol                      5789 non-null   float64\n",
      " 18  rougher.input.feed_au                       5840 non-null   float64\n",
      " 19  rougher.input.floatbank10_sulfate           5599 non-null   float64\n",
      " 20  rougher.input.floatbank10_xanthate          5733 non-null   float64\n",
      " 21  rougher.input.floatbank11_sulfate           5801 non-null   float64\n",
      " 22  rougher.input.floatbank11_xanthate          5503 non-null   float64\n",
      " 23  rougher.state.floatbank10_a_air             5839 non-null   float64\n",
      " 24  rougher.state.floatbank10_a_level           5840 non-null   float64\n",
      " 25  rougher.state.floatbank10_b_air             5839 non-null   float64\n",
      " 26  rougher.state.floatbank10_b_level           5840 non-null   float64\n",
      " 27  rougher.state.floatbank10_c_air             5839 non-null   float64\n",
      " 28  rougher.state.floatbank10_c_level           5840 non-null   float64\n",
      " 29  rougher.state.floatbank10_d_air             5839 non-null   float64\n",
      " 30  rougher.state.floatbank10_d_level           5840 non-null   float64\n",
      " 31  rougher.state.floatbank10_e_air             5839 non-null   float64\n",
      " 32  rougher.state.floatbank10_e_level           5840 non-null   float64\n",
      " 33  rougher.state.floatbank10_f_air             5839 non-null   float64\n",
      " 34  rougher.state.floatbank10_f_level           5840 non-null   float64\n",
      " 35  secondary_cleaner.state.floatbank2_a_air    5836 non-null   float64\n",
      " 36  secondary_cleaner.state.floatbank2_a_level  5840 non-null   float64\n",
      " 37  secondary_cleaner.state.floatbank2_b_air    5833 non-null   float64\n",
      " 38  secondary_cleaner.state.floatbank2_b_level  5840 non-null   float64\n",
      " 39  secondary_cleaner.state.floatbank3_a_air    5822 non-null   float64\n",
      " 40  secondary_cleaner.state.floatbank3_a_level  5840 non-null   float64\n",
      " 41  secondary_cleaner.state.floatbank3_b_air    5840 non-null   float64\n",
      " 42  secondary_cleaner.state.floatbank3_b_level  5840 non-null   float64\n",
      " 43  secondary_cleaner.state.floatbank4_a_air    5840 non-null   float64\n",
      " 44  secondary_cleaner.state.floatbank4_a_level  5840 non-null   float64\n",
      " 45  secondary_cleaner.state.floatbank4_b_air    5840 non-null   float64\n",
      " 46  secondary_cleaner.state.floatbank4_b_level  5840 non-null   float64\n",
      " 47  secondary_cleaner.state.floatbank5_a_air    5840 non-null   float64\n",
      " 48  secondary_cleaner.state.floatbank5_a_level  5840 non-null   float64\n",
      " 49  secondary_cleaner.state.floatbank5_b_air    5840 non-null   float64\n",
      " 50  secondary_cleaner.state.floatbank5_b_level  5840 non-null   float64\n",
      " 51  secondary_cleaner.state.floatbank6_a_air    5840 non-null   float64\n",
      " 52  secondary_cleaner.state.floatbank6_a_level  5840 non-null   float64\n",
      "dtypes: float64(52), object(1)\n",
      "memory usage: 2.4+ MB\n"
     ]
    }
   ],
   "source": [
    "df_test.info()"
   ]
  },
  {
   "cell_type": "code",
   "execution_count": 8,
   "id": "f8bfc514",
   "metadata": {},
   "outputs": [
    {
     "name": "stdout",
     "output_type": "stream",
     "text": [
      "<class 'pandas.core.frame.DataFrame'>\n",
      "RangeIndex: 22716 entries, 0 to 22715\n",
      "Data columns (total 87 columns):\n",
      " #   Column                                              Non-Null Count  Dtype  \n",
      "---  ------                                              --------------  -----  \n",
      " 0   date                                                22716 non-null  object \n",
      " 1   final.output.concentrate_ag                         22627 non-null  float64\n",
      " 2   final.output.concentrate_pb                         22629 non-null  float64\n",
      " 3   final.output.concentrate_sol                        22331 non-null  float64\n",
      " 4   final.output.concentrate_au                         22630 non-null  float64\n",
      " 5   final.output.recovery                               20753 non-null  float64\n",
      " 6   final.output.tail_ag                                22633 non-null  float64\n",
      " 7   final.output.tail_pb                                22516 non-null  float64\n",
      " 8   final.output.tail_sol                               22445 non-null  float64\n",
      " 9   final.output.tail_au                                22635 non-null  float64\n",
      " 10  primary_cleaner.input.sulfate                       21107 non-null  float64\n",
      " 11  primary_cleaner.input.depressant                    21170 non-null  float64\n",
      " 12  primary_cleaner.input.feed_size                     22716 non-null  float64\n",
      " 13  primary_cleaner.input.xanthate                      21565 non-null  float64\n",
      " 14  primary_cleaner.output.concentrate_ag               22618 non-null  float64\n",
      " 15  primary_cleaner.output.concentrate_pb               22268 non-null  float64\n",
      " 16  primary_cleaner.output.concentrate_sol              21918 non-null  float64\n",
      " 17  primary_cleaner.output.concentrate_au               22618 non-null  float64\n",
      " 18  primary_cleaner.output.tail_ag                      22614 non-null  float64\n",
      " 19  primary_cleaner.output.tail_pb                      22594 non-null  float64\n",
      " 20  primary_cleaner.output.tail_sol                     22365 non-null  float64\n",
      " 21  primary_cleaner.output.tail_au                      22617 non-null  float64\n",
      " 22  primary_cleaner.state.floatbank8_a_air              22660 non-null  float64\n",
      " 23  primary_cleaner.state.floatbank8_a_level            22667 non-null  float64\n",
      " 24  primary_cleaner.state.floatbank8_b_air              22660 non-null  float64\n",
      " 25  primary_cleaner.state.floatbank8_b_level            22673 non-null  float64\n",
      " 26  primary_cleaner.state.floatbank8_c_air              22662 non-null  float64\n",
      " 27  primary_cleaner.state.floatbank8_c_level            22673 non-null  float64\n",
      " 28  primary_cleaner.state.floatbank8_d_air              22661 non-null  float64\n",
      " 29  primary_cleaner.state.floatbank8_d_level            22673 non-null  float64\n",
      " 30  rougher.calculation.sulfate_to_au_concentrate       22672 non-null  float64\n",
      " 31  rougher.calculation.floatbank10_sulfate_to_au_feed  22672 non-null  float64\n",
      " 32  rougher.calculation.floatbank11_sulfate_to_au_feed  22672 non-null  float64\n",
      " 33  rougher.calculation.au_pb_ratio                     21089 non-null  float64\n",
      " 34  rougher.input.feed_ag                               22618 non-null  float64\n",
      " 35  rougher.input.feed_pb                               22472 non-null  float64\n",
      " 36  rougher.input.feed_rate                             22163 non-null  float64\n",
      " 37  rougher.input.feed_size                             22277 non-null  float64\n",
      " 38  rougher.input.feed_sol                              22357 non-null  float64\n",
      " 39  rougher.input.feed_au                               22617 non-null  float64\n",
      " 40  rougher.input.floatbank10_sulfate                   21415 non-null  float64\n",
      " 41  rougher.input.floatbank10_xanthate                  22247 non-null  float64\n",
      " 42  rougher.input.floatbank11_sulfate                   22038 non-null  float64\n",
      " 43  rougher.input.floatbank11_xanthate                  20459 non-null  float64\n",
      " 44  rougher.output.concentrate_ag                       22618 non-null  float64\n",
      " 45  rougher.output.concentrate_pb                       22618 non-null  float64\n",
      " 46  rougher.output.concentrate_sol                      22526 non-null  float64\n",
      " 47  rougher.output.concentrate_au                       22618 non-null  float64\n",
      " 48  rougher.output.recovery                             19597 non-null  float64\n",
      " 49  rougher.output.tail_ag                              19979 non-null  float64\n",
      " 50  rougher.output.tail_pb                              22618 non-null  float64\n",
      " 51  rougher.output.tail_sol                             19980 non-null  float64\n",
      " 52  rougher.output.tail_au                              19980 non-null  float64\n",
      " 53  rougher.state.floatbank10_a_air                     22646 non-null  float64\n",
      " 54  rougher.state.floatbank10_a_level                   22647 non-null  float64\n",
      " 55  rougher.state.floatbank10_b_air                     22646 non-null  float64\n",
      " 56  rougher.state.floatbank10_b_level                   22647 non-null  float64\n",
      " 57  rougher.state.floatbank10_c_air                     22646 non-null  float64\n",
      " 58  rougher.state.floatbank10_c_level                   22654 non-null  float64\n",
      " 59  rougher.state.floatbank10_d_air                     22641 non-null  float64\n",
      " 60  rougher.state.floatbank10_d_level                   22649 non-null  float64\n",
      " 61  rougher.state.floatbank10_e_air                     22096 non-null  float64\n",
      " 62  rougher.state.floatbank10_e_level                   22649 non-null  float64\n",
      " 63  rougher.state.floatbank10_f_air                     22641 non-null  float64\n",
      " 64  rougher.state.floatbank10_f_level                   22642 non-null  float64\n",
      " 65  secondary_cleaner.output.tail_ag                    22616 non-null  float64\n",
      " 66  secondary_cleaner.output.tail_pb                    22600 non-null  float64\n",
      " 67  secondary_cleaner.output.tail_sol                   20501 non-null  float64\n",
      " 68  secondary_cleaner.output.tail_au                    22618 non-null  float64\n",
      " 69  secondary_cleaner.state.floatbank2_a_air            22333 non-null  float64\n",
      " 70  secondary_cleaner.state.floatbank2_a_level          22591 non-null  float64\n",
      " 71  secondary_cleaner.state.floatbank2_b_air            22538 non-null  float64\n",
      " 72  secondary_cleaner.state.floatbank2_b_level          22588 non-null  float64\n",
      " 73  secondary_cleaner.state.floatbank3_a_air            22585 non-null  float64\n",
      " 74  secondary_cleaner.state.floatbank3_a_level          22587 non-null  float64\n",
      " 75  secondary_cleaner.state.floatbank3_b_air            22592 non-null  float64\n",
      " 76  secondary_cleaner.state.floatbank3_b_level          22590 non-null  float64\n",
      " 77  secondary_cleaner.state.floatbank4_a_air            22571 non-null  float64\n",
      " 78  secondary_cleaner.state.floatbank4_a_level          22587 non-null  float64\n",
      " 79  secondary_cleaner.state.floatbank4_b_air            22608 non-null  float64\n",
      " 80  secondary_cleaner.state.floatbank4_b_level          22607 non-null  float64\n",
      " 81  secondary_cleaner.state.floatbank5_a_air            22615 non-null  float64\n",
      " 82  secondary_cleaner.state.floatbank5_a_level          22615 non-null  float64\n",
      " 83  secondary_cleaner.state.floatbank5_b_air            22615 non-null  float64\n",
      " 84  secondary_cleaner.state.floatbank5_b_level          22616 non-null  float64\n",
      " 85  secondary_cleaner.state.floatbank6_a_air            22597 non-null  float64\n",
      " 86  secondary_cleaner.state.floatbank6_a_level          22615 non-null  float64\n",
      "dtypes: float64(86), object(1)\n",
      "memory usage: 15.1+ MB\n"
     ]
    }
   ],
   "source": [
    "df_full.info()"
   ]
  },
  {
   "cell_type": "code",
   "execution_count": 9,
   "id": "cc5f4680",
   "metadata": {},
   "outputs": [
    {
     "name": "stdout",
     "output_type": "stream",
     "text": [
      "Check for Dataset Train Duplicate: 0\n",
      "Check for Dataset Test Duplicate: 0\n",
      "Check for Dataset Full Duplicate: 0\n"
     ]
    }
   ],
   "source": [
    "print('Check for Dataset Train Duplicate:', df_train.duplicated().sum())\n",
    "print('Check for Dataset Test Duplicate:', df_test.duplicated().sum())\n",
    "print('Check for Dataset Full Duplicate:', df_full.duplicated().sum())"
   ]
  },
  {
   "cell_type": "markdown",
   "id": "10f3657e",
   "metadata": {},
   "source": [
    "#### Considerations:\n",
    "\n",
    "    Date needs to be change to datetime data type;\n",
    "    Test data set haves fewer columns than Train and Full data set;\n",
    "    Data sets have missing values that need to be fixed\n",
    "    Data sets have no duplicate values"
   ]
  },
  {
   "cell_type": "markdown",
   "id": "7b110449",
   "metadata": {},
   "source": [
    "#### 1.2. \n",
    "Check that recovery is calculated correctly. Using the training set, calculate recovery for the rougher.output.recovery feature. Find the MAE between your calculations and the feature values. Provide findings."
   ]
  },
  {
   "cell_type": "code",
   "execution_count": 10,
   "id": "d3a8da11",
   "metadata": {},
   "outputs": [],
   "source": [
    "C_train = df_train['rougher.output.concentrate_au']\n",
    "F_train = df_train['rougher.input.feed_au']\n",
    "T_test = df_train['rougher.output.tail_au']"
   ]
  },
  {
   "cell_type": "code",
   "execution_count": 11,
   "id": "bbc8e8bf",
   "metadata": {},
   "outputs": [],
   "source": [
    "def recovery_MAE(C, F, T, df_column):\n",
    "    recovery = ((C*(F-T))/(F*(C-T))) * 100\n",
    "    df_recovery = pd.DataFrame({'output': df_column, 'recovery': recovery})\n",
    "    df_recovery = df_recovery.dropna()\n",
    "    MAE = mean_absolute_error(df_recovery['output'], df_recovery['recovery'])\n",
    "    print('MAE:', MAE)\n",
    "    return "
   ]
  },
  {
   "cell_type": "code",
   "execution_count": 12,
   "id": "c949267f",
   "metadata": {},
   "outputs": [
    {
     "name": "stdout",
     "output_type": "stream",
     "text": [
      "MAE: 9.303415616264301e-15\n"
     ]
    }
   ],
   "source": [
    "recovery_MAE(C_train, F_train, T_test, df_train['rougher.output.recovery'])"
   ]
  },
  {
   "cell_type": "markdown",
   "id": "62a3ce1f",
   "metadata": {},
   "source": [
    "#### Considerations:\n",
    "    results are correct, MAE near 0"
   ]
  },
  {
   "cell_type": "markdown",
   "id": "d9afa9da",
   "metadata": {},
   "source": [
    "#### 1.3.\n",
    "Analyze the features not available in the test set. What are these parameters? What is their type?"
   ]
  },
  {
   "cell_type": "code",
   "execution_count": 13,
   "id": "cefe0e32",
   "metadata": {},
   "outputs": [],
   "source": [
    "def df_differences(df1, df2):\n",
    "    dif = set(df1.columns).symmetric_difference(set(df2.columns))\n",
    "    print('It haves less:', len(dif), 'columns')\n",
    "    return dif\n",
    "    "
   ]
  },
  {
   "cell_type": "code",
   "execution_count": 14,
   "id": "02df5b4e",
   "metadata": {},
   "outputs": [
    {
     "name": "stdout",
     "output_type": "stream",
     "text": [
      "It haves less: 34 columns\n"
     ]
    },
    {
     "data": {
      "text/plain": [
       "{'final.output.concentrate_ag',\n",
       " 'final.output.concentrate_au',\n",
       " 'final.output.concentrate_pb',\n",
       " 'final.output.concentrate_sol',\n",
       " 'final.output.recovery',\n",
       " 'final.output.tail_ag',\n",
       " 'final.output.tail_au',\n",
       " 'final.output.tail_pb',\n",
       " 'final.output.tail_sol',\n",
       " 'primary_cleaner.output.concentrate_ag',\n",
       " 'primary_cleaner.output.concentrate_au',\n",
       " 'primary_cleaner.output.concentrate_pb',\n",
       " 'primary_cleaner.output.concentrate_sol',\n",
       " 'primary_cleaner.output.tail_ag',\n",
       " 'primary_cleaner.output.tail_au',\n",
       " 'primary_cleaner.output.tail_pb',\n",
       " 'primary_cleaner.output.tail_sol',\n",
       " 'rougher.calculation.au_pb_ratio',\n",
       " 'rougher.calculation.floatbank10_sulfate_to_au_feed',\n",
       " 'rougher.calculation.floatbank11_sulfate_to_au_feed',\n",
       " 'rougher.calculation.sulfate_to_au_concentrate',\n",
       " 'rougher.output.concentrate_ag',\n",
       " 'rougher.output.concentrate_au',\n",
       " 'rougher.output.concentrate_pb',\n",
       " 'rougher.output.concentrate_sol',\n",
       " 'rougher.output.recovery',\n",
       " 'rougher.output.tail_ag',\n",
       " 'rougher.output.tail_au',\n",
       " 'rougher.output.tail_pb',\n",
       " 'rougher.output.tail_sol',\n",
       " 'secondary_cleaner.output.tail_ag',\n",
       " 'secondary_cleaner.output.tail_au',\n",
       " 'secondary_cleaner.output.tail_pb',\n",
       " 'secondary_cleaner.output.tail_sol'}"
      ]
     },
     "execution_count": 14,
     "metadata": {},
     "output_type": "execute_result"
    }
   ],
   "source": [
    "df_differences(df_full, df_test)"
   ]
  },
  {
   "cell_type": "markdown",
   "id": "e283b48e",
   "metadata": {},
   "source": [
    "#### 1.4. \n",
    "Perform data preprocessing."
   ]
  },
  {
   "cell_type": "code",
   "execution_count": 15,
   "id": "768c5d79",
   "metadata": {},
   "outputs": [
    {
     "name": "stdout",
     "output_type": "stream",
     "text": [
      "0\n",
      "0\n",
      "0\n"
     ]
    }
   ],
   "source": [
    "print(df_train['date'].isnull().sum())\n",
    "print(df_test['date'].isnull().sum())\n",
    "print(df_full['date'].isnull().sum())"
   ]
  },
  {
   "cell_type": "code",
   "execution_count": 16,
   "id": "24938694",
   "metadata": {},
   "outputs": [],
   "source": [
    "df_train['date'] = pd.to_datetime(df_train['date'], format='%Y-%m-%dT%H:%M:%S')\n",
    "df_test['date'] = pd.to_datetime(df_test['date'], format='%Y-%m-%dT%H:%M:%S')\n",
    "df_full['date'] = pd.to_datetime(df_full['date'], format='%Y-%m-%dT%H:%M:%S')"
   ]
  },
  {
   "cell_type": "code",
   "execution_count": 17,
   "id": "86135f71",
   "metadata": {},
   "outputs": [
    {
     "name": "stdout",
     "output_type": "stream",
     "text": [
      "<class 'pandas.core.frame.DataFrame'>\n",
      "RangeIndex: 16860 entries, 0 to 16859\n",
      "Data columns (total 87 columns):\n",
      " #   Column                                              Non-Null Count  Dtype         \n",
      "---  ------                                              --------------  -----         \n",
      " 0   date                                                16860 non-null  datetime64[ns]\n",
      " 1   final.output.concentrate_ag                         16788 non-null  float64       \n",
      " 2   final.output.concentrate_pb                         16788 non-null  float64       \n",
      " 3   final.output.concentrate_sol                        16490 non-null  float64       \n",
      " 4   final.output.concentrate_au                         16789 non-null  float64       \n",
      " 5   final.output.recovery                               15339 non-null  float64       \n",
      " 6   final.output.tail_ag                                16794 non-null  float64       \n",
      " 7   final.output.tail_pb                                16677 non-null  float64       \n",
      " 8   final.output.tail_sol                               16715 non-null  float64       \n",
      " 9   final.output.tail_au                                16794 non-null  float64       \n",
      " 10  primary_cleaner.input.sulfate                       15553 non-null  float64       \n",
      " 11  primary_cleaner.input.depressant                    15598 non-null  float64       \n",
      " 12  primary_cleaner.input.feed_size                     16860 non-null  float64       \n",
      " 13  primary_cleaner.input.xanthate                      15875 non-null  float64       \n",
      " 14  primary_cleaner.output.concentrate_ag               16778 non-null  float64       \n",
      " 15  primary_cleaner.output.concentrate_pb               16502 non-null  float64       \n",
      " 16  primary_cleaner.output.concentrate_sol              16224 non-null  float64       \n",
      " 17  primary_cleaner.output.concentrate_au               16778 non-null  float64       \n",
      " 18  primary_cleaner.output.tail_ag                      16777 non-null  float64       \n",
      " 19  primary_cleaner.output.tail_pb                      16761 non-null  float64       \n",
      " 20  primary_cleaner.output.tail_sol                     16579 non-null  float64       \n",
      " 21  primary_cleaner.output.tail_au                      16777 non-null  float64       \n",
      " 22  primary_cleaner.state.floatbank8_a_air              16820 non-null  float64       \n",
      " 23  primary_cleaner.state.floatbank8_a_level            16827 non-null  float64       \n",
      " 24  primary_cleaner.state.floatbank8_b_air              16820 non-null  float64       \n",
      " 25  primary_cleaner.state.floatbank8_b_level            16833 non-null  float64       \n",
      " 26  primary_cleaner.state.floatbank8_c_air              16822 non-null  float64       \n",
      " 27  primary_cleaner.state.floatbank8_c_level            16833 non-null  float64       \n",
      " 28  primary_cleaner.state.floatbank8_d_air              16821 non-null  float64       \n",
      " 29  primary_cleaner.state.floatbank8_d_level            16833 non-null  float64       \n",
      " 30  rougher.calculation.sulfate_to_au_concentrate       16833 non-null  float64       \n",
      " 31  rougher.calculation.floatbank10_sulfate_to_au_feed  16833 non-null  float64       \n",
      " 32  rougher.calculation.floatbank11_sulfate_to_au_feed  16833 non-null  float64       \n",
      " 33  rougher.calculation.au_pb_ratio                     15618 non-null  float64       \n",
      " 34  rougher.input.feed_ag                               16778 non-null  float64       \n",
      " 35  rougher.input.feed_pb                               16632 non-null  float64       \n",
      " 36  rougher.input.feed_rate                             16347 non-null  float64       \n",
      " 37  rougher.input.feed_size                             16443 non-null  float64       \n",
      " 38  rougher.input.feed_sol                              16568 non-null  float64       \n",
      " 39  rougher.input.feed_au                               16777 non-null  float64       \n",
      " 40  rougher.input.floatbank10_sulfate                   15816 non-null  float64       \n",
      " 41  rougher.input.floatbank10_xanthate                  16514 non-null  float64       \n",
      " 42  rougher.input.floatbank11_sulfate                   16237 non-null  float64       \n",
      " 43  rougher.input.floatbank11_xanthate                  14956 non-null  float64       \n",
      " 44  rougher.output.concentrate_ag                       16778 non-null  float64       \n",
      " 45  rougher.output.concentrate_pb                       16778 non-null  float64       \n",
      " 46  rougher.output.concentrate_sol                      16698 non-null  float64       \n",
      " 47  rougher.output.concentrate_au                       16778 non-null  float64       \n",
      " 48  rougher.output.recovery                             14287 non-null  float64       \n",
      " 49  rougher.output.tail_ag                              14610 non-null  float64       \n",
      " 50  rougher.output.tail_pb                              16778 non-null  float64       \n",
      " 51  rougher.output.tail_sol                             14611 non-null  float64       \n",
      " 52  rougher.output.tail_au                              14611 non-null  float64       \n",
      " 53  rougher.state.floatbank10_a_air                     16807 non-null  float64       \n",
      " 54  rougher.state.floatbank10_a_level                   16807 non-null  float64       \n",
      " 55  rougher.state.floatbank10_b_air                     16807 non-null  float64       \n",
      " 56  rougher.state.floatbank10_b_level                   16807 non-null  float64       \n",
      " 57  rougher.state.floatbank10_c_air                     16807 non-null  float64       \n",
      " 58  rougher.state.floatbank10_c_level                   16814 non-null  float64       \n",
      " 59  rougher.state.floatbank10_d_air                     16802 non-null  float64       \n",
      " 60  rougher.state.floatbank10_d_level                   16809 non-null  float64       \n",
      " 61  rougher.state.floatbank10_e_air                     16257 non-null  float64       \n",
      " 62  rougher.state.floatbank10_e_level                   16809 non-null  float64       \n",
      " 63  rougher.state.floatbank10_f_air                     16802 non-null  float64       \n",
      " 64  rougher.state.floatbank10_f_level                   16802 non-null  float64       \n",
      " 65  secondary_cleaner.output.tail_ag                    16776 non-null  float64       \n",
      " 66  secondary_cleaner.output.tail_pb                    16764 non-null  float64       \n",
      " 67  secondary_cleaner.output.tail_sol                   14874 non-null  float64       \n",
      " 68  secondary_cleaner.output.tail_au                    16778 non-null  float64       \n",
      " 69  secondary_cleaner.state.floatbank2_a_air            16497 non-null  float64       \n",
      " 70  secondary_cleaner.state.floatbank2_a_level          16751 non-null  float64       \n",
      " 71  secondary_cleaner.state.floatbank2_b_air            16705 non-null  float64       \n",
      " 72  secondary_cleaner.state.floatbank2_b_level          16748 non-null  float64       \n",
      " 73  secondary_cleaner.state.floatbank3_a_air            16763 non-null  float64       \n",
      " 74  secondary_cleaner.state.floatbank3_a_level          16747 non-null  float64       \n",
      " 75  secondary_cleaner.state.floatbank3_b_air            16752 non-null  float64       \n",
      " 76  secondary_cleaner.state.floatbank3_b_level          16750 non-null  float64       \n",
      " 77  secondary_cleaner.state.floatbank4_a_air            16731 non-null  float64       \n",
      " 78  secondary_cleaner.state.floatbank4_a_level          16747 non-null  float64       \n",
      " 79  secondary_cleaner.state.floatbank4_b_air            16768 non-null  float64       \n",
      " 80  secondary_cleaner.state.floatbank4_b_level          16767 non-null  float64       \n",
      " 81  secondary_cleaner.state.floatbank5_a_air            16775 non-null  float64       \n",
      " 82  secondary_cleaner.state.floatbank5_a_level          16775 non-null  float64       \n",
      " 83  secondary_cleaner.state.floatbank5_b_air            16775 non-null  float64       \n",
      " 84  secondary_cleaner.state.floatbank5_b_level          16776 non-null  float64       \n",
      " 85  secondary_cleaner.state.floatbank6_a_air            16757 non-null  float64       \n",
      " 86  secondary_cleaner.state.floatbank6_a_level          16775 non-null  float64       \n",
      "dtypes: datetime64[ns](1), float64(86)\n",
      "memory usage: 11.2 MB\n"
     ]
    }
   ],
   "source": [
    "df_train.info()"
   ]
  },
  {
   "cell_type": "code",
   "execution_count": 18,
   "id": "2288b2f7",
   "metadata": {},
   "outputs": [
    {
     "data": {
      "text/plain": [
       "(16860, 87)"
      ]
     },
     "execution_count": 18,
     "metadata": {},
     "output_type": "execute_result"
    }
   ],
   "source": [
    "df_train.shape[0], df_train.shape[1]"
   ]
  },
  {
   "cell_type": "code",
   "execution_count": 19,
   "id": "74149ecb",
   "metadata": {},
   "outputs": [
    {
     "data": {
      "text/plain": [
       "(22716, 87)"
      ]
     },
     "execution_count": 19,
     "metadata": {},
     "output_type": "execute_result"
    }
   ],
   "source": [
    "df_full.shape[0], df_full.shape[1]"
   ]
  },
  {
   "cell_type": "code",
   "execution_count": 20,
   "id": "20e53452",
   "metadata": {},
   "outputs": [
    {
     "data": {
      "text/plain": [
       "(5856, 53)"
      ]
     },
     "execution_count": 20,
     "metadata": {},
     "output_type": "execute_result"
    }
   ],
   "source": [
    "df_test.shape[0], df_test.shape[1]"
   ]
  },
  {
   "cell_type": "code",
   "execution_count": 21,
   "id": "bb1b8f60",
   "metadata": {},
   "outputs": [],
   "source": [
    "from sklearn.impute import KNNImputer\n",
    "from sklearn.preprocessing import StandardScaler\n",
    "\n",
    "def KNN_null_treatment(df, column):\n",
    "    df1 = df.drop([column], axis=1)\n",
    "    df2 = df[[column]]\n",
    "    scaler = StandardScaler().fit(df1)\n",
    "    df_scaled = scaler.transform(df1)\n",
    "    imputer = KNNImputer().fit(df_scaled)\n",
    "    df_knn = imputer.transform(df_scaled)\n",
    "    df_knn = pd.DataFrame(df_knn, columns=df1.columns)\n",
    "    df_final = df2.join(df_knn, how='outer')\n",
    "    return df_final"
   ]
  },
  {
   "cell_type": "code",
   "execution_count": 22,
   "id": "0a06aa20",
   "metadata": {},
   "outputs": [],
   "source": [
    "df_train_treat = KNN_null_treatment(df_train, 'date') \n",
    "df_test_treat = KNN_null_treatment(df_test, 'date') \n",
    "df_full_treat = KNN_null_treatment(df_full, 'date') "
   ]
  },
  {
   "cell_type": "code",
   "execution_count": 23,
   "id": "ab956a40",
   "metadata": {},
   "outputs": [],
   "source": [
    "#add the collumns missing in test set\n",
    "df_test_treat = df_full_treat[df_full_treat['date'].isin(df_test_treat['date'])]"
   ]
  },
  {
   "cell_type": "code",
   "execution_count": 24,
   "id": "452769ff",
   "metadata": {},
   "outputs": [
    {
     "data": {
      "text/plain": [
       "(16860, 87)"
      ]
     },
     "execution_count": 24,
     "metadata": {},
     "output_type": "execute_result"
    }
   ],
   "source": [
    "df_train.shape[0], df_train.shape[1]"
   ]
  },
  {
   "cell_type": "code",
   "execution_count": 25,
   "id": "6b768741",
   "metadata": {},
   "outputs": [
    {
     "data": {
      "text/plain": [
       "(5856, 87)"
      ]
     },
     "execution_count": 25,
     "metadata": {},
     "output_type": "execute_result"
    }
   ],
   "source": [
    "df_test_treat.shape[0], df_test_treat.shape[1]"
   ]
  },
  {
   "cell_type": "code",
   "execution_count": 26,
   "id": "8de2d2dd",
   "metadata": {},
   "outputs": [
    {
     "data": {
      "text/html": [
       "<div>\n",
       "<style scoped>\n",
       "    .dataframe tbody tr th:only-of-type {\n",
       "        vertical-align: middle;\n",
       "    }\n",
       "\n",
       "    .dataframe tbody tr th {\n",
       "        vertical-align: top;\n",
       "    }\n",
       "\n",
       "    .dataframe thead th {\n",
       "        text-align: right;\n",
       "    }\n",
       "</style>\n",
       "<table border=\"1\" class=\"dataframe\">\n",
       "  <thead>\n",
       "    <tr style=\"text-align: right;\">\n",
       "      <th></th>\n",
       "      <th>date</th>\n",
       "      <th>final.output.concentrate_ag</th>\n",
       "      <th>final.output.concentrate_pb</th>\n",
       "      <th>final.output.concentrate_sol</th>\n",
       "      <th>final.output.concentrate_au</th>\n",
       "      <th>final.output.recovery</th>\n",
       "      <th>final.output.tail_ag</th>\n",
       "      <th>final.output.tail_pb</th>\n",
       "      <th>final.output.tail_sol</th>\n",
       "      <th>final.output.tail_au</th>\n",
       "      <th>...</th>\n",
       "      <th>secondary_cleaner.state.floatbank4_a_air</th>\n",
       "      <th>secondary_cleaner.state.floatbank4_a_level</th>\n",
       "      <th>secondary_cleaner.state.floatbank4_b_air</th>\n",
       "      <th>secondary_cleaner.state.floatbank4_b_level</th>\n",
       "      <th>secondary_cleaner.state.floatbank5_a_air</th>\n",
       "      <th>secondary_cleaner.state.floatbank5_a_level</th>\n",
       "      <th>secondary_cleaner.state.floatbank5_b_air</th>\n",
       "      <th>secondary_cleaner.state.floatbank5_b_level</th>\n",
       "      <th>secondary_cleaner.state.floatbank6_a_air</th>\n",
       "      <th>secondary_cleaner.state.floatbank6_a_level</th>\n",
       "    </tr>\n",
       "  </thead>\n",
       "  <tbody>\n",
       "    <tr>\n",
       "      <th>5521</th>\n",
       "      <td>2016-09-01 00:59:59</td>\n",
       "      <td>1.377688</td>\n",
       "      <td>0.424359</td>\n",
       "      <td>0.885248</td>\n",
       "      <td>0.055436</td>\n",
       "      <td>0.243298</td>\n",
       "      <td>1.070315</td>\n",
       "      <td>1.140224</td>\n",
       "      <td>0.380438</td>\n",
       "      <td>1.354547</td>\n",
       "      <td>...</td>\n",
       "      <td>-0.942233</td>\n",
       "      <td>0.025951</td>\n",
       "      <td>-1.120967</td>\n",
       "      <td>-0.263871</td>\n",
       "      <td>-1.088510</td>\n",
       "      <td>0.973691</td>\n",
       "      <td>-1.173155</td>\n",
       "      <td>0.006131</td>\n",
       "      <td>1.315402</td>\n",
       "      <td>0.260377</td>\n",
       "    </tr>\n",
       "    <tr>\n",
       "      <th>5522</th>\n",
       "      <td>2016-09-01 01:59:59</td>\n",
       "      <td>1.493672</td>\n",
       "      <td>0.459910</td>\n",
       "      <td>0.944756</td>\n",
       "      <td>-0.029623</td>\n",
       "      <td>0.125945</td>\n",
       "      <td>1.110193</td>\n",
       "      <td>1.202852</td>\n",
       "      <td>0.394444</td>\n",
       "      <td>1.463138</td>\n",
       "      <td>...</td>\n",
       "      <td>-0.936961</td>\n",
       "      <td>0.014740</td>\n",
       "      <td>-1.100754</td>\n",
       "      <td>-0.246231</td>\n",
       "      <td>-1.086673</td>\n",
       "      <td>-0.308765</td>\n",
       "      <td>-1.172054</td>\n",
       "      <td>0.004549</td>\n",
       "      <td>1.061343</td>\n",
       "      <td>0.258919</td>\n",
       "    </tr>\n",
       "    <tr>\n",
       "      <th>5523</th>\n",
       "      <td>2016-09-01 02:59:59</td>\n",
       "      <td>1.399860</td>\n",
       "      <td>0.411275</td>\n",
       "      <td>0.970526</td>\n",
       "      <td>0.053966</td>\n",
       "      <td>0.059895</td>\n",
       "      <td>1.152456</td>\n",
       "      <td>1.293369</td>\n",
       "      <td>0.359468</td>\n",
       "      <td>1.584921</td>\n",
       "      <td>...</td>\n",
       "      <td>-0.951560</td>\n",
       "      <td>0.013847</td>\n",
       "      <td>-1.106781</td>\n",
       "      <td>-0.258949</td>\n",
       "      <td>-1.068974</td>\n",
       "      <td>0.034579</td>\n",
       "      <td>-1.167490</td>\n",
       "      <td>0.008777</td>\n",
       "      <td>1.057564</td>\n",
       "      <td>0.248278</td>\n",
       "    </tr>\n",
       "    <tr>\n",
       "      <th>5524</th>\n",
       "      <td>2016-09-01 03:59:59</td>\n",
       "      <td>1.857509</td>\n",
       "      <td>0.435791</td>\n",
       "      <td>1.171549</td>\n",
       "      <td>-0.053007</td>\n",
       "      <td>0.028315</td>\n",
       "      <td>1.002961</td>\n",
       "      <td>1.086658</td>\n",
       "      <td>0.400109</td>\n",
       "      <td>1.696351</td>\n",
       "      <td>...</td>\n",
       "      <td>-0.940779</td>\n",
       "      <td>0.019036</td>\n",
       "      <td>-1.110661</td>\n",
       "      <td>-0.244528</td>\n",
       "      <td>-1.096274</td>\n",
       "      <td>0.033662</td>\n",
       "      <td>-1.162927</td>\n",
       "      <td>0.007066</td>\n",
       "      <td>1.050640</td>\n",
       "      <td>0.273618</td>\n",
       "    </tr>\n",
       "    <tr>\n",
       "      <th>5525</th>\n",
       "      <td>2016-09-01 04:59:59</td>\n",
       "      <td>1.624181</td>\n",
       "      <td>0.348987</td>\n",
       "      <td>1.013253</td>\n",
       "      <td>0.018910</td>\n",
       "      <td>-0.514853</td>\n",
       "      <td>0.825551</td>\n",
       "      <td>0.961861</td>\n",
       "      <td>0.460832</td>\n",
       "      <td>1.923769</td>\n",
       "      <td>...</td>\n",
       "      <td>-0.941957</td>\n",
       "      <td>-0.011306</td>\n",
       "      <td>-1.114245</td>\n",
       "      <td>-0.254367</td>\n",
       "      <td>-1.063194</td>\n",
       "      <td>-0.085067</td>\n",
       "      <td>-1.158363</td>\n",
       "      <td>0.002045</td>\n",
       "      <td>1.058840</td>\n",
       "      <td>0.245181</td>\n",
       "    </tr>\n",
       "  </tbody>\n",
       "</table>\n",
       "<p>5 rows × 87 columns</p>\n",
       "</div>"
      ],
      "text/plain": [
       "                    date  final.output.concentrate_ag  \\\n",
       "5521 2016-09-01 00:59:59                     1.377688   \n",
       "5522 2016-09-01 01:59:59                     1.493672   \n",
       "5523 2016-09-01 02:59:59                     1.399860   \n",
       "5524 2016-09-01 03:59:59                     1.857509   \n",
       "5525 2016-09-01 04:59:59                     1.624181   \n",
       "\n",
       "      final.output.concentrate_pb  final.output.concentrate_sol  \\\n",
       "5521                     0.424359                      0.885248   \n",
       "5522                     0.459910                      0.944756   \n",
       "5523                     0.411275                      0.970526   \n",
       "5524                     0.435791                      1.171549   \n",
       "5525                     0.348987                      1.013253   \n",
       "\n",
       "      final.output.concentrate_au  final.output.recovery  \\\n",
       "5521                     0.055436               0.243298   \n",
       "5522                    -0.029623               0.125945   \n",
       "5523                     0.053966               0.059895   \n",
       "5524                    -0.053007               0.028315   \n",
       "5525                     0.018910              -0.514853   \n",
       "\n",
       "      final.output.tail_ag  final.output.tail_pb  final.output.tail_sol  \\\n",
       "5521              1.070315              1.140224               0.380438   \n",
       "5522              1.110193              1.202852               0.394444   \n",
       "5523              1.152456              1.293369               0.359468   \n",
       "5524              1.002961              1.086658               0.400109   \n",
       "5525              0.825551              0.961861               0.460832   \n",
       "\n",
       "      final.output.tail_au  ...  secondary_cleaner.state.floatbank4_a_air  \\\n",
       "5521              1.354547  ...                                 -0.942233   \n",
       "5522              1.463138  ...                                 -0.936961   \n",
       "5523              1.584921  ...                                 -0.951560   \n",
       "5524              1.696351  ...                                 -0.940779   \n",
       "5525              1.923769  ...                                 -0.941957   \n",
       "\n",
       "      secondary_cleaner.state.floatbank4_a_level  \\\n",
       "5521                                    0.025951   \n",
       "5522                                    0.014740   \n",
       "5523                                    0.013847   \n",
       "5524                                    0.019036   \n",
       "5525                                   -0.011306   \n",
       "\n",
       "      secondary_cleaner.state.floatbank4_b_air  \\\n",
       "5521                                 -1.120967   \n",
       "5522                                 -1.100754   \n",
       "5523                                 -1.106781   \n",
       "5524                                 -1.110661   \n",
       "5525                                 -1.114245   \n",
       "\n",
       "      secondary_cleaner.state.floatbank4_b_level  \\\n",
       "5521                                   -0.263871   \n",
       "5522                                   -0.246231   \n",
       "5523                                   -0.258949   \n",
       "5524                                   -0.244528   \n",
       "5525                                   -0.254367   \n",
       "\n",
       "      secondary_cleaner.state.floatbank5_a_air  \\\n",
       "5521                                 -1.088510   \n",
       "5522                                 -1.086673   \n",
       "5523                                 -1.068974   \n",
       "5524                                 -1.096274   \n",
       "5525                                 -1.063194   \n",
       "\n",
       "      secondary_cleaner.state.floatbank5_a_level  \\\n",
       "5521                                    0.973691   \n",
       "5522                                   -0.308765   \n",
       "5523                                    0.034579   \n",
       "5524                                    0.033662   \n",
       "5525                                   -0.085067   \n",
       "\n",
       "      secondary_cleaner.state.floatbank5_b_air  \\\n",
       "5521                                 -1.173155   \n",
       "5522                                 -1.172054   \n",
       "5523                                 -1.167490   \n",
       "5524                                 -1.162927   \n",
       "5525                                 -1.158363   \n",
       "\n",
       "      secondary_cleaner.state.floatbank5_b_level  \\\n",
       "5521                                    0.006131   \n",
       "5522                                    0.004549   \n",
       "5523                                    0.008777   \n",
       "5524                                    0.007066   \n",
       "5525                                    0.002045   \n",
       "\n",
       "      secondary_cleaner.state.floatbank6_a_air  \\\n",
       "5521                                  1.315402   \n",
       "5522                                  1.061343   \n",
       "5523                                  1.057564   \n",
       "5524                                  1.050640   \n",
       "5525                                  1.058840   \n",
       "\n",
       "      secondary_cleaner.state.floatbank6_a_level  \n",
       "5521                                    0.260377  \n",
       "5522                                    0.258919  \n",
       "5523                                    0.248278  \n",
       "5524                                    0.273618  \n",
       "5525                                    0.245181  \n",
       "\n",
       "[5 rows x 87 columns]"
      ]
     },
     "execution_count": 26,
     "metadata": {},
     "output_type": "execute_result"
    }
   ],
   "source": [
    "df_test_treat.head()"
   ]
  },
  {
   "cell_type": "code",
   "execution_count": 27,
   "id": "32f6990a",
   "metadata": {},
   "outputs": [
    {
     "name": "stdout",
     "output_type": "stream",
     "text": [
      "<class 'pandas.core.frame.DataFrame'>\n",
      "Int64Index: 5856 entries, 5521 to 17208\n",
      "Data columns (total 87 columns):\n",
      " #   Column                                              Non-Null Count  Dtype         \n",
      "---  ------                                              --------------  -----         \n",
      " 0   date                                                5856 non-null   datetime64[ns]\n",
      " 1   final.output.concentrate_ag                         5856 non-null   float64       \n",
      " 2   final.output.concentrate_pb                         5856 non-null   float64       \n",
      " 3   final.output.concentrate_sol                        5856 non-null   float64       \n",
      " 4   final.output.concentrate_au                         5856 non-null   float64       \n",
      " 5   final.output.recovery                               5856 non-null   float64       \n",
      " 6   final.output.tail_ag                                5856 non-null   float64       \n",
      " 7   final.output.tail_pb                                5856 non-null   float64       \n",
      " 8   final.output.tail_sol                               5856 non-null   float64       \n",
      " 9   final.output.tail_au                                5856 non-null   float64       \n",
      " 10  primary_cleaner.input.sulfate                       5856 non-null   float64       \n",
      " 11  primary_cleaner.input.depressant                    5856 non-null   float64       \n",
      " 12  primary_cleaner.input.feed_size                     5856 non-null   float64       \n",
      " 13  primary_cleaner.input.xanthate                      5856 non-null   float64       \n",
      " 14  primary_cleaner.output.concentrate_ag               5856 non-null   float64       \n",
      " 15  primary_cleaner.output.concentrate_pb               5856 non-null   float64       \n",
      " 16  primary_cleaner.output.concentrate_sol              5856 non-null   float64       \n",
      " 17  primary_cleaner.output.concentrate_au               5856 non-null   float64       \n",
      " 18  primary_cleaner.output.tail_ag                      5856 non-null   float64       \n",
      " 19  primary_cleaner.output.tail_pb                      5856 non-null   float64       \n",
      " 20  primary_cleaner.output.tail_sol                     5856 non-null   float64       \n",
      " 21  primary_cleaner.output.tail_au                      5856 non-null   float64       \n",
      " 22  primary_cleaner.state.floatbank8_a_air              5856 non-null   float64       \n",
      " 23  primary_cleaner.state.floatbank8_a_level            5856 non-null   float64       \n",
      " 24  primary_cleaner.state.floatbank8_b_air              5856 non-null   float64       \n",
      " 25  primary_cleaner.state.floatbank8_b_level            5856 non-null   float64       \n",
      " 26  primary_cleaner.state.floatbank8_c_air              5856 non-null   float64       \n",
      " 27  primary_cleaner.state.floatbank8_c_level            5856 non-null   float64       \n",
      " 28  primary_cleaner.state.floatbank8_d_air              5856 non-null   float64       \n",
      " 29  primary_cleaner.state.floatbank8_d_level            5856 non-null   float64       \n",
      " 30  rougher.calculation.sulfate_to_au_concentrate       5856 non-null   float64       \n",
      " 31  rougher.calculation.floatbank10_sulfate_to_au_feed  5856 non-null   float64       \n",
      " 32  rougher.calculation.floatbank11_sulfate_to_au_feed  5856 non-null   float64       \n",
      " 33  rougher.calculation.au_pb_ratio                     5856 non-null   float64       \n",
      " 34  rougher.input.feed_ag                               5856 non-null   float64       \n",
      " 35  rougher.input.feed_pb                               5856 non-null   float64       \n",
      " 36  rougher.input.feed_rate                             5856 non-null   float64       \n",
      " 37  rougher.input.feed_size                             5856 non-null   float64       \n",
      " 38  rougher.input.feed_sol                              5856 non-null   float64       \n",
      " 39  rougher.input.feed_au                               5856 non-null   float64       \n",
      " 40  rougher.input.floatbank10_sulfate                   5856 non-null   float64       \n",
      " 41  rougher.input.floatbank10_xanthate                  5856 non-null   float64       \n",
      " 42  rougher.input.floatbank11_sulfate                   5856 non-null   float64       \n",
      " 43  rougher.input.floatbank11_xanthate                  5856 non-null   float64       \n",
      " 44  rougher.output.concentrate_ag                       5856 non-null   float64       \n",
      " 45  rougher.output.concentrate_pb                       5856 non-null   float64       \n",
      " 46  rougher.output.concentrate_sol                      5856 non-null   float64       \n",
      " 47  rougher.output.concentrate_au                       5856 non-null   float64       \n",
      " 48  rougher.output.recovery                             5856 non-null   float64       \n",
      " 49  rougher.output.tail_ag                              5856 non-null   float64       \n",
      " 50  rougher.output.tail_pb                              5856 non-null   float64       \n",
      " 51  rougher.output.tail_sol                             5856 non-null   float64       \n",
      " 52  rougher.output.tail_au                              5856 non-null   float64       \n",
      " 53  rougher.state.floatbank10_a_air                     5856 non-null   float64       \n",
      " 54  rougher.state.floatbank10_a_level                   5856 non-null   float64       \n",
      " 55  rougher.state.floatbank10_b_air                     5856 non-null   float64       \n",
      " 56  rougher.state.floatbank10_b_level                   5856 non-null   float64       \n",
      " 57  rougher.state.floatbank10_c_air                     5856 non-null   float64       \n",
      " 58  rougher.state.floatbank10_c_level                   5856 non-null   float64       \n",
      " 59  rougher.state.floatbank10_d_air                     5856 non-null   float64       \n",
      " 60  rougher.state.floatbank10_d_level                   5856 non-null   float64       \n",
      " 61  rougher.state.floatbank10_e_air                     5856 non-null   float64       \n",
      " 62  rougher.state.floatbank10_e_level                   5856 non-null   float64       \n",
      " 63  rougher.state.floatbank10_f_air                     5856 non-null   float64       \n",
      " 64  rougher.state.floatbank10_f_level                   5856 non-null   float64       \n",
      " 65  secondary_cleaner.output.tail_ag                    5856 non-null   float64       \n",
      " 66  secondary_cleaner.output.tail_pb                    5856 non-null   float64       \n",
      " 67  secondary_cleaner.output.tail_sol                   5856 non-null   float64       \n",
      " 68  secondary_cleaner.output.tail_au                    5856 non-null   float64       \n",
      " 69  secondary_cleaner.state.floatbank2_a_air            5856 non-null   float64       \n",
      " 70  secondary_cleaner.state.floatbank2_a_level          5856 non-null   float64       \n",
      " 71  secondary_cleaner.state.floatbank2_b_air            5856 non-null   float64       \n",
      " 72  secondary_cleaner.state.floatbank2_b_level          5856 non-null   float64       \n",
      " 73  secondary_cleaner.state.floatbank3_a_air            5856 non-null   float64       \n",
      " 74  secondary_cleaner.state.floatbank3_a_level          5856 non-null   float64       \n",
      " 75  secondary_cleaner.state.floatbank3_b_air            5856 non-null   float64       \n",
      " 76  secondary_cleaner.state.floatbank3_b_level          5856 non-null   float64       \n",
      " 77  secondary_cleaner.state.floatbank4_a_air            5856 non-null   float64       \n",
      " 78  secondary_cleaner.state.floatbank4_a_level          5856 non-null   float64       \n",
      " 79  secondary_cleaner.state.floatbank4_b_air            5856 non-null   float64       \n",
      " 80  secondary_cleaner.state.floatbank4_b_level          5856 non-null   float64       \n",
      " 81  secondary_cleaner.state.floatbank5_a_air            5856 non-null   float64       \n",
      " 82  secondary_cleaner.state.floatbank5_a_level          5856 non-null   float64       \n",
      " 83  secondary_cleaner.state.floatbank5_b_air            5856 non-null   float64       \n",
      " 84  secondary_cleaner.state.floatbank5_b_level          5856 non-null   float64       \n",
      " 85  secondary_cleaner.state.floatbank6_a_air            5856 non-null   float64       \n",
      " 86  secondary_cleaner.state.floatbank6_a_level          5856 non-null   float64       \n",
      "dtypes: datetime64[ns](1), float64(86)\n",
      "memory usage: 3.9 MB\n"
     ]
    }
   ],
   "source": [
    "df_test_treat.info()"
   ]
  },
  {
   "cell_type": "markdown",
   "id": "3362bfd0",
   "metadata": {},
   "source": [
    "#### Considerations\n",
    "    Null values were treated using the KNN method\n",
    "    Date data type fixed to datetime"
   ]
  },
  {
   "cell_type": "markdown",
   "id": "12b135c9",
   "metadata": {},
   "source": [
    "#### 2.1. \n",
    "Take note of how the concentrations of metals (Au, Ag, Pb) change depending on the purification stage."
   ]
  },
  {
   "cell_type": "code",
   "execution_count": 28,
   "id": "eb17ecef",
   "metadata": {},
   "outputs": [],
   "source": [
    "metals = ['au', 'ag', 'pb']\n",
    "\n",
    "stages = ['rougher.output.concentrate_',\\\n",
    "          'primary_cleaner.output.concentrate_',\\\n",
    "          'final.output.concentrate_']\n",
    "\n",
    "stages_label = ['flotation',\\\n",
    "               'primary_cleaner',\\\n",
    "               'final characteristics']"
   ]
  },
  {
   "cell_type": "code",
   "execution_count": 29,
   "id": "0ccbfe8f",
   "metadata": {
    "scrolled": false
   },
   "outputs": [
    {
     "data": {
      "image/png": "[encoded data removed]",
      "text/plain": [
       "<Figure size 720x360 with 1 Axes>"
      ]
     },
     "metadata": {
      "needs_background": "light"
     },
     "output_type": "display_data"
    },
    {
     "data": {
      "image/png": "[encoded data removed]",
      "text/plain": [
       "<Figure size 720x360 with 1 Axes>"
      ]
     },
     "metadata": {
      "needs_background": "light"
     },
     "output_type": "display_data"
    },
    {
     "data": {
      "image/png": "[encoded data removed]",
      "text/plain": [
       "<Figure size 720x360 with 1 Axes>"
      ]
     },
     "metadata": {
      "needs_background": "light"
     },
     "output_type": "display_data"
    }
   ],
   "source": [
    "for metal in metals:\n",
    "    plt.figure(figsize=(10,5))\n",
    "    for stage, lab in zip(stages, stages_label):\n",
    "        ax = sns.kdeplot(df_train_treat[stage+metal], shade=True, label=lab)\n",
    "        ax.legend()\n",
    "        ax.set_xlabel(('Distribution of concentration of metal ' + metal), fontsize=12, labelpad=7.5)\n",
    "        ax.set_title(('Different values of concentration for the metal ' + metal + ' during the purification stage'), fontsize=14)\n",
    "    plt.show()\n",
    "    "
   ]
  },
  {
   "cell_type": "code",
   "execution_count": 30,
   "id": "bfd957c2",
   "metadata": {},
   "outputs": [],
   "source": [
    "def boxplot_process(metal, df):\n",
    "    ax = sns.boxplot(data=df[['rougher.output.concentrate_'+metal, 'primary_cleaner.output.concentrate_'+metal, 'final.output.concentrate_'+metal]], showfliers = False)\n",
    "    ax.set_xticklabels(ax.get_xticklabels(), rotation=40, ha='right')\n",
    "    plt.show()\n",
    "    "
   ]
  },
  {
   "cell_type": "code",
   "execution_count": 31,
   "id": "b8e22374",
   "metadata": {},
   "outputs": [
    {
     "data": {
      "image/png": "[encoded data removed]",
      "text/plain": [
       "<Figure size 432x288 with 1 Axes>"
      ]
     },
     "metadata": {
      "needs_background": "light"
     },
     "output_type": "display_data"
    }
   ],
   "source": [
    "boxplot_process('au', df_train_treat)"
   ]
  },
  {
   "cell_type": "code",
   "execution_count": 32,
   "id": "1f8c2200",
   "metadata": {},
   "outputs": [
    {
     "data": {
      "image/png": "[encoded data removed]",
      "text/plain": [
       "<Figure size 432x288 with 1 Axes>"
      ]
     },
     "metadata": {
      "needs_background": "light"
     },
     "output_type": "display_data"
    }
   ],
   "source": [
    "boxplot_process('ag', df_train_treat)"
   ]
  },
  {
   "cell_type": "code",
   "execution_count": 33,
   "id": "fc4be3a6",
   "metadata": {},
   "outputs": [
    {
     "data": {
      "image/png": "[encoded data removed]",
      "text/plain": [
       "<Figure size 432x288 with 1 Axes>"
      ]
     },
     "metadata": {
      "needs_background": "light"
     },
     "output_type": "display_data"
    }
   ],
   "source": [
    "boxplot_process('pb', df_train_treat)"
   ]
  },
  {
   "cell_type": "markdown",
   "id": "6b8af92a",
   "metadata": {},
   "source": [
    "#### Considerations\n",
    "    - After analysing both density graphs and boxplots it is shown that both 'au' and 'pb' metals increase their concentration over the stages. However the metal 'ag' appears to decrease his concentration with each stage.\n",
    "    - Also by analyzing the graphics it is possible to conclude that there are many outliers."
   ]
  },
  {
   "cell_type": "markdown",
   "id": "ed57fadd",
   "metadata": {},
   "source": [
    "#### 2.2. \n",
    "Compare the feed particle size distributions in the training set and in the test set. If the distributions vary significantly, the model evaluation will be incorrect."
   ]
  },
  {
   "cell_type": "code",
   "execution_count": 34,
   "id": "95071c94",
   "metadata": {},
   "outputs": [
    {
     "data": {
      "text/plain": [
       "Text(0.5, 1.0, 'Test dataset')"
      ]
     },
     "execution_count": 34,
     "metadata": {},
     "output_type": "execute_result"
    },
    {
     "data": {
      "image/png": "[encoded data removed]",
      "text/plain": [
       "<Figure size 1080x720 with 2 Axes>"
      ]
     },
     "metadata": {
      "needs_background": "light"
     },
     "output_type": "display_data"
    }
   ],
   "source": [
    "f, axes = plt.subplots(1, 2, figsize = (15,10), sharey=True)\n",
    "sns.histplot(df_train_treat['rougher.input.feed_size'], stat=\"density\", ax=axes[0], color ='gray')\n",
    "sns.kdeplot(df_train_treat['rougher.input.feed_size'], color='b', ax=axes[0])\n",
    "axes[0].set_title('Train dataset')\n",
    "sns.histplot(df_test_treat['rougher.input.feed_size'], stat=\"density\", ax=axes[1], color ='gray')\n",
    "sns.kdeplot(df_test_treat['rougher.input.feed_size'], color='b', ax=axes[1])\n",
    "axes[1].set_title('Test dataset')"
   ]
  },
  {
   "cell_type": "code",
   "execution_count": 35,
   "id": "9a6310b7",
   "metadata": {},
   "outputs": [
    {
     "data": {
      "text/plain": [
       "<AxesSubplot:xlabel='rougher.input.feed_size', ylabel='Density'>"
      ]
     },
     "execution_count": 35,
     "metadata": {},
     "output_type": "execute_result"
    },
    {
     "data": {
      "image/png": "[encoded data removed]",
      "text/plain": [
       "<Figure size 1080x576 with 1 Axes>"
      ]
     },
     "metadata": {
      "needs_background": "light"
     },
     "output_type": "display_data"
    }
   ],
   "source": [
    "plt.figure(figsize=(15,8))\n",
    "sns.kdeplot(df_train_treat['rougher.input.feed_size'] ,shade=True)\n",
    "sns.kdeplot(df_test_treat['rougher.input.feed_size'] ,shade=True)"
   ]
  },
  {
   "cell_type": "code",
   "execution_count": 38,
   "id": "44b8726c",
   "metadata": {},
   "outputs": [
    {
     "name": "stdout",
     "output_type": "stream",
     "text": [
      "Average particle size for train dataset: -0.011848996898914802\n",
      "Average particle size for test dataset: -0.08578468381146741\n"
     ]
    }
   ],
   "source": [
    "print('Average particle size for train dataset:', df_train_treat['rougher.input.feed_size'].mean())\n",
    "print('Average particle size for test dataset:', df_test_treat['rougher.input.feed_size'].mean())"
   ]
  },
  {
   "cell_type": "markdown",
   "id": "d2a9e183",
   "metadata": {},
   "source": [
    "#### Considerations\n",
    "    From the visual analysis of the graphs it could be concluded that the distributions are similar ie the model evaluation is correct.\n",
    "    Also both train and test dataset share a very similar means contributing to validate the model"
   ]
  },
  {
   "cell_type": "markdown",
   "id": "bac86b6c",
   "metadata": {},
   "source": [
    "#### 2.3. \n",
    "Consider the total concentrations of all substances at different stages: raw feed, rougher concentrate, and final concentrate. Do you notice any abnormal values in the total distribution? If you do, is it worth removing such values from both samples? Describe the findings and eliminate anomalies. "
   ]
  },
  {
   "cell_type": "code",
   "execution_count": 36,
   "id": "9bb21904",
   "metadata": {},
   "outputs": [
    {
     "data": {
      "image/png": "[encoded data removed]",
      "text/plain": [
       "<Figure size 1080x720 with 3 Axes>"
      ]
     },
     "metadata": {
      "needs_background": "light"
     },
     "output_type": "display_data"
    }
   ],
   "source": [
    "concentration_stages = ['rougher.input.feed_',\\\n",
    "                        'rougher.output.concentrate_',\\\n",
    "                        'final.output.concentrate_',]\n",
    "f, axes = plt.subplots(1, 3, figsize = (15,10), sharey=False)\n",
    "\n",
    "for stage, axs in zip(concentration_stages, axes):\n",
    "    df_study = df_train_treat[stage+'au'] + df_train_treat[stage+'pb'] + df_train_treat[stage+'ag'] + df_train_treat[stage+'sol']\n",
    "    axs.set_title(stage)\n",
    "    sns.histplot(df_study, ax=axs, color ='gray', stat=\"density\")\n",
    "    sns.kdeplot(df_study, color='b', ax=axs)\n",
    "plt.show()"
   ]
  },
  {
   "cell_type": "code",
   "execution_count": 37,
   "id": "27f1eb48",
   "metadata": {},
   "outputs": [
    {
     "data": {
      "image/png": "[encoded data removed]",
      "text/plain": [
       "<Figure size 1080x720 with 3 Axes>"
      ]
     },
     "metadata": {
      "needs_background": "light"
     },
     "output_type": "display_data"
    }
   ],
   "source": [
    "f, axes = plt.subplots(1, 3, figsize = (15,10), sharey=False)\n",
    "\n",
    "for stage, axs in zip(concentration_stages, axes):\n",
    "    df_study = df_train_treat[stage+'au'] + df_train_treat[stage+'pb'] + df_train_treat[stage+'ag'] + df_train_treat[stage+'sol']\n",
    "    IQ1 = df_study.quantile(0.25)\n",
    "    IQ3 = df_study.quantile(0.75)\n",
    "    IQR = IQ3 - IQ1\n",
    "    df_study_outliers = df_study.loc[(df_study >= (IQ1 - 1.5 * IQR)) & (df_study <= (IQ3 + 1.5 *IQR))]\n",
    "    axs.set_title(stage)\n",
    "    sns.histplot(df_study_outliers, ax=axs, color ='gray', stat=\"density\")\n",
    "    sns.kdeplot(df_study_outliers, color='b', ax=axs)\n",
    "plt.show()"
   ]
  },
  {
   "cell_type": "markdown",
   "id": "45d5587f",
   "metadata": {},
   "source": [
    "#### Considerations:\n",
    "\n",
    "    - As seen in step 2.1 and again shown in the graphs above, you could see the existence of outliers that are worth removing.\n",
    "    - After removing outliers using the IQR method we are provided with cleaner look of the process, were it can be seen that after each step, the concentration of the metal tends to increase."
   ]
  },
  {
   "cell_type": "markdown",
   "id": "8530ba83",
   "metadata": {},
   "source": [
    "#### 3.1. \n",
    "Write a function to calculate the final sMAPE value."
   ]
  },
  {
   "cell_type": "code",
   "execution_count": 38,
   "id": "9339e6d0",
   "metadata": {},
   "outputs": [],
   "source": [
    "def smape(y_true, y_pred):\n",
    "    N = len(y_true)\n",
    "    return ((1/N) * np.sum(2 * np.abs(y_true - y_pred) / (np.abs(y_true) + np.abs(y_pred)))) * 100\n",
    "\n"
   ]
  },
  {
   "cell_type": "code",
   "execution_count": 39,
   "id": "30cdadbd",
   "metadata": {},
   "outputs": [],
   "source": [
    "def smape_final(y_true,y_pred):\n",
    "    rougher = smape(y_true[target.index('rougher.output.recovery')], y_pred[target.index('rougher.output.recovery')])\n",
    "    final = smape(y_true[target.index('final.output.recovery')], y_pred[target.index('final.output.recovery')])\n",
    "    return 0.25*rougher + 0.75*final"
   ]
  },
  {
   "cell_type": "markdown",
   "id": "362a0a30",
   "metadata": {},
   "source": [
    "#### 3.2. \n",
    "Train different models. Evaluate them using cross-validation. Pick the best model and test it using the test sample. Provide findings."
   ]
  },
  {
   "cell_type": "code",
   "execution_count": 40,
   "id": "2ef6a04f",
   "metadata": {},
   "outputs": [
    {
     "name": "stdout",
     "output_type": "stream",
     "text": [
      "(16860, 50)\n",
      "(5856, 50)\n"
     ]
    }
   ],
   "source": [
    "target = ['rougher.output.recovery', 'final.output.recovery']\n",
    "\n",
    "df_train_model = df_train_treat[df_train_treat.columns.drop(list(df_train_treat.filter(regex= \"date|ag|au|pb|sol\")))]\n",
    "df_test_model = df_test_treat[df_test_treat.columns.drop(list(df_test_treat.filter(regex= \"date|ag|au|pb|sol\")))]\n",
    "\n",
    "features = list(df_train_model.columns)\n",
    "\n",
    "print(df_train_model.shape)\n",
    "print(df_test_model.shape)"
   ]
  },
  {
   "cell_type": "code",
   "execution_count": 41,
   "id": "bb983725",
   "metadata": {},
   "outputs": [],
   "source": [
    "X_train, X_test = df_train_model[features].values, df_test_model[features].values\n",
    "y_train, y_test = df_train_model[target].values, df_test_model[target].values"
   ]
  },
  {
   "cell_type": "code",
   "execution_count": 42,
   "id": "077f68ef",
   "metadata": {},
   "outputs": [],
   "source": [
    "smape_score = make_scorer(smape_final)"
   ]
  },
  {
   "cell_type": "markdown",
   "id": "8c224697",
   "metadata": {},
   "source": [
    "#### Linear Regression Model \n",
    "\n",
    "- with 5-fold cross validation"
   ]
  },
  {
   "cell_type": "code",
   "execution_count": 43,
   "id": "b43a9515",
   "metadata": {},
   "outputs": [
    {
     "name": "stdout",
     "output_type": "stream",
     "text": [
      "mean smape: 4.117447434828301e-13\n",
      "CPU times: user 876 ms, sys: 846 ms, total: 1.72 s\n",
      "Wall time: 1.72 s\n"
     ]
    },
    {
     "data": {
      "text/plain": [
       "array([1.23398947e-12, 2.30999210e-13, 1.07752874e-13, 2.78416736e-13,\n",
       "       2.07565429e-13])"
      ]
     },
     "execution_count": 43,
     "metadata": {},
     "output_type": "execute_result"
    }
   ],
   "source": [
    "%%time\n",
    "\n",
    "### Linear regression\n",
    "lr = LinearRegression().fit(X_train, y_train)\n",
    "\n",
    "score_lr = cross_val_score(lr, \n",
    "                           X_train, \n",
    "                           y_train, \n",
    "                           cv=5, \n",
    "                           scoring=smape_score)\n",
    "\n",
    "print(\"mean smape:\", score_lr.mean())\n",
    "score_lr"
   ]
  },
  {
   "cell_type": "markdown",
   "id": "a34b2d41",
   "metadata": {},
   "source": [
    "#### Decision Tree Regressor Model \n",
    "\n",
    "- with max depth with a range from 1 to 20\n",
    "- 5-fold cross validation"
   ]
  },
  {
   "cell_type": "code",
   "execution_count": 44,
   "id": "56225d0c",
   "metadata": {},
   "outputs": [
    {
     "name": "stdout",
     "output_type": "stream",
     "text": [
      "CPU times: user 45.7 s, sys: 1.61 ms, total: 45.8 s\n",
      "Wall time: 48 s\n"
     ]
    },
    {
     "data": {
      "text/plain": [
       "GridSearchCV(cv=5, estimator=DecisionTreeRegressor(random_state=12345),\n",
       "             param_grid={'max_depth': range(1, 20)},\n",
       "             scoring=make_scorer(smape_final))"
      ]
     },
     "execution_count": 44,
     "metadata": {},
     "output_type": "execute_result"
    }
   ],
   "source": [
    "%%time\n",
    "\n",
    "#### Decision Tree Regressor\n",
    "\n",
    "params_DTR = {   \n",
    "    'max_depth': range(1,20) \n",
    "}\n",
    "\n",
    "model_DTR = DecisionTreeRegressor(random_state = 12345)\n",
    "\n",
    "CV_DTR = GridSearchCV(\n",
    "    model_DTR, \n",
    "    param_grid=params_DTR, \n",
    "    scoring=smape_score, \n",
    "    cv=5)\n",
    "\n",
    "CV_DTR.fit(X_train, y_train)"
   ]
  },
  {
   "cell_type": "code",
   "execution_count": 45,
   "id": "092c0590",
   "metadata": {},
   "outputs": [
    {
     "name": "stdout",
     "output_type": "stream",
     "text": [
      "Best Value (mean) of sMAPE: 130.07257749293237\n",
      "Best parameter {'max_depth': 1}\n"
     ]
    }
   ],
   "source": [
    "print('Best Value (mean) of sMAPE:', CV_DTR.best_score_)\n",
    "print('Best parameter', CV_DTR.best_params_)"
   ]
  },
  {
   "cell_type": "markdown",
   "id": "b4a034b1",
   "metadata": {},
   "source": [
    "#### Random Forest Regressor Model \n",
    "\n",
    "- with hyperparameter min samples split between 2 and 10  \n",
    "- 5-fold cross validation"
   ]
  },
  {
   "cell_type": "code",
   "execution_count": 46,
   "id": "546c0a8e",
   "metadata": {},
   "outputs": [
    {
     "name": "stdout",
     "output_type": "stream",
     "text": [
      "CPU times: user 13min 53s, sys: 267 ms, total: 13min 53s\n",
      "Wall time: 14min 3s\n"
     ]
    },
    {
     "data": {
      "text/plain": [
       "GridSearchCV(cv=5, estimator=RandomForestRegressor(random_state=12345),\n",
       "             param_grid={'min_samples_split': range(2, 10, 2)},\n",
       "             scoring=make_scorer(smape_final))"
      ]
     },
     "execution_count": 46,
     "metadata": {},
     "output_type": "execute_result"
    }
   ],
   "source": [
    "%%time\n",
    "### random forest regressor\n",
    "\n",
    "params_forest = {\n",
    "    'min_samples_split': range(2, 10, 2)\n",
    "}\n",
    "\n",
    "model_forest = RandomForestRegressor(random_state = 12345)\n",
    "\n",
    "CV_forest = GridSearchCV(\n",
    "    model_forest, \n",
    "    param_grid=params_forest, \n",
    "    scoring=smape_score, \n",
    "    cv=5)\n",
    "\n",
    "CV_forest.fit(X_train, y_train)"
   ]
  },
  {
   "cell_type": "code",
   "execution_count": 47,
   "id": "ec08e44e",
   "metadata": {},
   "outputs": [
    {
     "name": "stdout",
     "output_type": "stream",
     "text": [
      "Best Value (mean) of sMAPE: 0.5617911571752233\n",
      "Best parameter {'min_samples_split': 4}\n"
     ]
    }
   ],
   "source": [
    "print('Best Value (mean) of sMAPE:', CV_forest.best_score_)\n",
    "print('Best parameter', CV_forest.best_params_)"
   ]
  },
  {
   "cell_type": "markdown",
   "id": "8767eea7",
   "metadata": {},
   "source": [
    "#### Final Model\n",
    "\n",
    "- **Random Forest Regressor Model** \n",
    "\n",
    "\n",
    "- with hyperparameter min samples split equal to 4 "
   ]
  },
  {
   "cell_type": "code",
   "execution_count": 48,
   "id": "469c31ed",
   "metadata": {},
   "outputs": [
    {
     "name": "stdout",
     "output_type": "stream",
     "text": [
      "CPU times: user 50.4 s, sys: 51.4 ms, total: 50.4 s\n",
      "Wall time: 50.9 s\n"
     ]
    },
    {
     "data": {
      "text/plain": [
       "RandomForestRegressor(min_samples_split=4, random_state=12345)"
      ]
     },
     "execution_count": 48,
     "metadata": {},
     "output_type": "execute_result"
    }
   ],
   "source": [
    "%%time\n",
    "### Final model\n",
    "\n",
    "model_final = RandomForestRegressor(random_state = 12345,\n",
    "                                   min_samples_split = 4)\n",
    "\n",
    "model_final.fit(X_train, y_train)"
   ]
  },
  {
   "cell_type": "code",
   "execution_count": 49,
   "id": "065a4bdb",
   "metadata": {},
   "outputs": [
    {
     "name": "stdout",
     "output_type": "stream",
     "text": [
      "Test sMAPE: 0.9265959484725876\n"
     ]
    }
   ],
   "source": [
    "predict = model_final.predict(X_test)\n",
    "print(\"Test sMAPE:\", smape_final(y_test, predict))"
   ]
  },
  {
   "cell_type": "markdown",
   "id": "743c92ea",
   "metadata": {},
   "source": [
    "#### Considerations:\n",
    "\n",
    "1) Linear regression: $sMAPE_{mean}\\approx$4.17e-13\n",
    "    \n",
    "    - Wall time: 2.58 s\n",
    "\n",
    "2) Decision tree regressor: $sMAPE_{mean}\\approx$130.07\n",
    "\n",
    "    - Wall time: 1min 6s\n",
    "\n",
    "3) Random forest regressor: $sMAPE_{mean}\\approx$0.56\n",
    "\n",
    "    - Wall time: 21min 16s\n",
    "\n",
    "Random forest regressor haves the best result according to the sMAPE, however is very slow compared with the other methods.\n",
    "\n",
    "\n",
    "4) Final method - Random forest regressor: $sMAPE_{mean}\\approx$0.88\n",
    "    \n",
    "    - Wall time: 1min 27s"
   ]
  },
  {
   "cell_type": "markdown",
   "id": "c041f704",
   "metadata": {},
   "source": [
    "#### Conclusion:\n",
    "\n",
    "    - The preprocessing of the data of the three datasets has been carried out.\n",
    "    - The stages of raw material purification have been investigated.\n",
    "    - The functions for calculating the required metric evaluation were built (final sMAPE).\n",
    "    - Three machine learning models have been built - linear regression, random forest regression and decision tree regression.\n",
    "    - Cross-validation and selection of model hyperparameters have been carried out.\n",
    "    - Selected the best model with suitable hyperparameters - regression random forest with parameters {'min_samples_split':4}. The final cross-validation sMAPE: 0.56.\n",
    "    - The selected model is tested on a test sample. The value of the final sMAPE is close to the value obtained by cross-validation: 0.88."
   ]
  }
 ],
 "metadata": {
  "ExecuteTimeLog": [
   {
    "duration": 3064,
    "start_time": "2021-07-05T06:53:40.098Z"
   },
   {
    "duration": 35,
    "start_time": "2021-07-05T06:53:43.164Z"
   },
   {
    "duration": 24,
    "start_time": "2021-07-05T06:53:43.202Z"
   },
   {
    "duration": 376,
    "start_time": "2021-07-05T06:53:43.228Z"
   },
   {
    "duration": 16,
    "start_time": "2021-07-05T06:53:43.607Z"
   },
   {
    "duration": 27,
    "start_time": "2021-07-05T06:53:43.626Z"
   },
   {
    "duration": 12,
    "start_time": "2021-07-05T06:53:43.656Z"
   },
   {
    "duration": 15,
    "start_time": "2021-07-05T06:53:43.670Z"
   },
   {
    "duration": 20,
    "start_time": "2021-07-05T06:53:43.689Z"
   },
   {
    "duration": 4,
    "start_time": "2021-07-05T06:53:43.712Z"
   },
   {
    "duration": 22,
    "start_time": "2021-07-05T06:53:43.719Z"
   },
   {
    "duration": 21,
    "start_time": "2021-07-05T06:53:43.744Z"
   },
   {
    "duration": 40,
    "start_time": "2021-07-05T06:53:43.767Z"
   },
   {
    "duration": 24,
    "start_time": "2021-07-05T06:53:43.809Z"
   },
   {
    "duration": 6,
    "start_time": "2021-07-05T06:53:43.835Z"
   },
   {
    "duration": 10,
    "start_time": "2021-07-05T06:53:43.843Z"
   },
   {
    "duration": 6,
    "start_time": "2021-07-05T06:53:43.856Z"
   },
   {
    "duration": 962,
    "start_time": "2021-07-05T06:53:43.864Z"
   },
   {
    "duration": 1510,
    "start_time": "2021-07-05T06:53:43.320Z"
   },
   {
    "duration": 1508,
    "start_time": "2021-07-05T06:53:43.323Z"
   },
   {
    "duration": 1508,
    "start_time": "2021-07-05T06:53:43.325Z"
   },
   {
    "duration": 1507,
    "start_time": "2021-07-05T06:53:43.328Z"
   },
   {
    "duration": 1506,
    "start_time": "2021-07-05T06:53:43.330Z"
   },
   {
    "duration": 1505,
    "start_time": "2021-07-05T06:53:43.333Z"
   },
   {
    "duration": 1503,
    "start_time": "2021-07-05T06:53:43.336Z"
   },
   {
    "duration": 1503,
    "start_time": "2021-07-05T06:53:43.338Z"
   },
   {
    "duration": 1502,
    "start_time": "2021-07-05T06:53:43.340Z"
   },
   {
    "duration": 1501,
    "start_time": "2021-07-05T06:53:43.343Z"
   },
   {
    "duration": 1500,
    "start_time": "2021-07-05T06:53:43.345Z"
   },
   {
    "duration": 1500,
    "start_time": "2021-07-05T06:53:43.348Z"
   },
   {
    "duration": 1499,
    "start_time": "2021-07-05T06:53:43.350Z"
   },
   {
    "duration": 1499,
    "start_time": "2021-07-05T06:53:43.352Z"
   },
   {
    "duration": 1497,
    "start_time": "2021-07-05T06:53:43.355Z"
   },
   {
    "duration": 1496,
    "start_time": "2021-07-05T06:53:43.357Z"
   },
   {
    "duration": 1508,
    "start_time": "2021-07-05T06:53:43.359Z"
   },
   {
    "duration": 1506,
    "start_time": "2021-07-05T06:53:43.362Z"
   },
   {
    "duration": 1506,
    "start_time": "2021-07-05T06:53:43.364Z"
   },
   {
    "duration": 1504,
    "start_time": "2021-07-05T06:53:43.367Z"
   },
   {
    "duration": 1504,
    "start_time": "2021-07-05T06:53:43.369Z"
   },
   {
    "duration": 1502,
    "start_time": "2021-07-05T06:53:43.372Z"
   },
   {
    "duration": 1502,
    "start_time": "2021-07-05T06:53:43.374Z"
   },
   {
    "duration": 1501,
    "start_time": "2021-07-05T06:53:43.376Z"
   },
   {
    "duration": 1500,
    "start_time": "2021-07-05T06:53:43.379Z"
   },
   {
    "duration": 1499,
    "start_time": "2021-07-05T06:53:43.381Z"
   },
   {
    "duration": 1497,
    "start_time": "2021-07-05T06:53:43.385Z"
   },
   {
    "duration": 1496,
    "start_time": "2021-07-05T06:53:43.388Z"
   },
   {
    "duration": 11253,
    "start_time": "2021-07-05T11:26:49.416Z"
   },
   {
    "duration": 15994,
    "start_time": "2021-07-05T11:27:00.672Z"
   },
   {
    "duration": 36,
    "start_time": "2021-07-05T11:27:16.669Z"
   },
   {
    "duration": 31,
    "start_time": "2021-07-05T11:27:16.707Z"
   },
   {
    "duration": 430,
    "start_time": "2021-07-05T11:27:16.741Z"
   },
   {
    "duration": 23,
    "start_time": "2021-07-05T11:27:17.174Z"
   },
   {
    "duration": 74,
    "start_time": "2021-07-05T11:27:17.200Z"
   },
   {
    "duration": 458,
    "start_time": "2021-07-05T11:27:17.279Z"
   },
   {
    "duration": 24,
    "start_time": "2021-07-05T11:27:17.741Z"
   },
   {
    "duration": 7,
    "start_time": "2021-07-05T11:27:17.768Z"
   },
   {
    "duration": 27,
    "start_time": "2021-07-05T11:27:17.778Z"
   },
   {
    "duration": 5,
    "start_time": "2021-07-05T11:27:17.809Z"
   },
   {
    "duration": 26,
    "start_time": "2021-07-05T11:27:17.818Z"
   },
   {
    "duration": 13,
    "start_time": "2021-07-05T11:27:17.869Z"
   },
   {
    "duration": 38,
    "start_time": "2021-07-05T11:27:17.885Z"
   },
   {
    "duration": 60,
    "start_time": "2021-07-05T11:27:17.926Z"
   },
   {
    "duration": 7,
    "start_time": "2021-07-05T11:27:17.989Z"
   },
   {
    "duration": 20,
    "start_time": "2021-07-05T11:27:17.999Z"
   },
   {
    "duration": 13,
    "start_time": "2021-07-05T11:27:18.022Z"
   },
   {
    "duration": 37,
    "start_time": "2021-07-05T11:27:18.038Z"
   },
   {
    "duration": 144269,
    "start_time": "2021-07-05T11:27:18.077Z"
   },
   {
    "duration": 23,
    "start_time": "2021-07-05T11:29:42.348Z"
   },
   {
    "duration": 21,
    "start_time": "2021-07-05T11:29:42.379Z"
   },
   {
    "duration": 8,
    "start_time": "2021-07-05T11:29:42.405Z"
   },
   {
    "duration": 81,
    "start_time": "2021-07-05T11:29:42.415Z"
   },
   {
    "duration": 22,
    "start_time": "2021-07-05T11:29:42.498Z"
   },
   {
    "duration": 4,
    "start_time": "2021-07-05T11:29:42.523Z"
   },
   {
    "duration": 1438,
    "start_time": "2021-07-05T11:29:42.530Z"
   },
   {
    "duration": 5,
    "start_time": "2021-07-05T11:29:43.971Z"
   },
   {
    "duration": 306,
    "start_time": "2021-07-05T11:29:43.978Z"
   },
   {
    "duration": 338,
    "start_time": "2021-07-05T11:29:44.286Z"
   },
   {
    "duration": 316,
    "start_time": "2021-07-05T11:29:44.627Z"
   },
   {
    "duration": 1609,
    "start_time": "2021-07-05T11:29:44.945Z"
   },
   {
    "duration": 73,
    "start_time": "2021-07-05T11:29:46.484Z"
   },
   {
    "duration": 63,
    "start_time": "2021-07-05T11:29:46.499Z"
   },
   {
    "duration": 59,
    "start_time": "2021-07-05T11:29:46.504Z"
   },
   {
    "duration": 48,
    "start_time": "2021-07-05T11:29:46.516Z"
   },
   {
    "duration": 46,
    "start_time": "2021-07-05T11:29:46.521Z"
   },
   {
    "duration": 43,
    "start_time": "2021-07-05T11:29:46.529Z"
   },
   {
    "duration": 40,
    "start_time": "2021-07-05T11:29:46.533Z"
   },
   {
    "duration": 37,
    "start_time": "2021-07-05T11:29:46.537Z"
   },
   {
    "duration": 33,
    "start_time": "2021-07-05T11:29:46.543Z"
   },
   {
    "duration": 32,
    "start_time": "2021-07-05T11:29:46.546Z"
   },
   {
    "duration": 33,
    "start_time": "2021-07-05T11:29:46.549Z"
   },
   {
    "duration": 37,
    "start_time": "2021-07-05T11:29:46.551Z"
   },
   {
    "duration": 32,
    "start_time": "2021-07-05T11:29:46.558Z"
   },
   {
    "duration": 32,
    "start_time": "2021-07-05T11:29:46.560Z"
   },
   {
    "duration": 29,
    "start_time": "2021-07-05T11:29:46.564Z"
   },
   {
    "duration": 4967,
    "start_time": "2021-07-05T11:32:09.876Z"
   },
   {
    "duration": 1028,
    "start_time": "2021-07-05T11:32:21.107Z"
   },
   {
    "duration": 1303,
    "start_time": "2021-07-05T11:32:35.049Z"
   },
   {
    "duration": 4656,
    "start_time": "2021-07-05T11:34:04.809Z"
   },
   {
    "duration": 4015,
    "start_time": "2021-07-05T11:34:09.467Z"
   },
   {
    "duration": 3408,
    "start_time": "2021-07-05T11:34:13.486Z"
   },
   {
    "duration": 36,
    "start_time": "2021-07-05T11:34:16.896Z"
   },
   {
    "duration": 66,
    "start_time": "2021-07-05T11:34:16.935Z"
   },
   {
    "duration": 440,
    "start_time": "2021-07-05T11:34:17.003Z"
   },
   {
    "duration": 21,
    "start_time": "2021-07-05T11:34:17.446Z"
   },
   {
    "duration": 27,
    "start_time": "2021-07-05T11:34:17.473Z"
   },
   {
    "duration": 437,
    "start_time": "2021-07-05T11:34:17.503Z"
   },
   {
    "duration": 4,
    "start_time": "2021-07-05T11:34:17.942Z"
   },
   {
    "duration": 8,
    "start_time": "2021-07-05T11:34:17.963Z"
   },
   {
    "duration": 18,
    "start_time": "2021-07-05T11:34:17.974Z"
   },
   {
    "duration": 8,
    "start_time": "2021-07-05T11:34:17.996Z"
   },
   {
    "duration": 9,
    "start_time": "2021-07-05T11:34:18.007Z"
   },
   {
    "duration": 53,
    "start_time": "2021-07-05T11:34:18.019Z"
   },
   {
    "duration": 41,
    "start_time": "2021-07-05T11:34:18.075Z"
   },
   {
    "duration": 79,
    "start_time": "2021-07-05T11:34:18.119Z"
   },
   {
    "duration": 7,
    "start_time": "2021-07-05T11:34:18.206Z"
   },
   {
    "duration": 9,
    "start_time": "2021-07-05T11:34:18.215Z"
   },
   {
    "duration": 45,
    "start_time": "2021-07-05T11:34:18.226Z"
   },
   {
    "duration": 14,
    "start_time": "2021-07-05T11:34:18.274Z"
   },
   {
    "duration": 135927,
    "start_time": "2021-07-05T11:34:18.298Z"
   },
   {
    "duration": 7,
    "start_time": "2021-07-05T11:36:34.230Z"
   },
   {
    "duration": 26,
    "start_time": "2021-07-05T11:36:34.240Z"
   },
   {
    "duration": 11,
    "start_time": "2021-07-05T11:36:34.268Z"
   },
   {
    "duration": 32,
    "start_time": "2021-07-05T11:36:34.282Z"
   },
   {
    "duration": 72,
    "start_time": "2021-07-05T11:36:34.317Z"
   },
   {
    "duration": 5,
    "start_time": "2021-07-05T11:36:34.391Z"
   },
   {
    "duration": 3897,
    "start_time": "2021-07-05T11:36:34.398Z"
   },
   {
    "duration": 5,
    "start_time": "2021-07-05T11:36:38.297Z"
   },
   {
    "duration": 447,
    "start_time": "2021-07-05T11:36:38.306Z"
   },
   {
    "duration": 335,
    "start_time": "2021-07-05T11:36:38.756Z"
   },
   {
    "duration": 308,
    "start_time": "2021-07-05T11:36:39.093Z"
   },
   {
    "duration": 3079,
    "start_time": "2021-07-05T11:36:39.403Z"
   },
   {
    "duration": 891,
    "start_time": "2021-07-05T11:36:42.485Z"
   },
   {
    "duration": 2970,
    "start_time": "2021-07-05T11:36:43.379Z"
   },
   {
    "duration": 2724,
    "start_time": "2021-07-05T11:36:46.352Z"
   },
   {
    "duration": 5,
    "start_time": "2021-07-05T11:36:49.080Z"
   },
   {
    "duration": 9,
    "start_time": "2021-07-05T11:36:49.088Z"
   },
   {
    "duration": 20,
    "start_time": "2021-07-05T11:36:49.100Z"
   },
   {
    "duration": 47,
    "start_time": "2021-07-05T11:36:49.122Z"
   },
   {
    "duration": 8,
    "start_time": "2021-07-05T11:36:49.173Z"
   },
   {
    "duration": 2607,
    "start_time": "2021-07-05T11:36:49.384Z"
   },
   {
    "duration": 66194,
    "start_time": "2021-07-05T11:36:52.062Z"
   },
   {
    "duration": 15,
    "start_time": "2021-07-05T11:37:58.265Z"
   },
   {
    "duration": 1276040,
    "start_time": "2021-07-05T11:37:58.282Z"
   },
   {
    "duration": 5,
    "start_time": "2021-07-05T11:59:14.324Z"
   },
   {
    "duration": 75701,
    "start_time": "2021-07-05T11:59:14.331Z"
   },
   {
    "duration": 147,
    "start_time": "2021-07-05T12:00:30.035Z"
   },
   {
    "duration": 87975,
    "start_time": "2021-07-05T12:18:15.758Z"
   },
   {
    "duration": 9366,
    "start_time": "2021-07-06T03:32:03.523Z"
   },
   {
    "duration": 2978,
    "start_time": "2021-07-06T03:32:12.891Z"
   },
   {
    "duration": 2403,
    "start_time": "2021-07-06T03:32:15.871Z"
   },
   {
    "duration": 19,
    "start_time": "2021-07-06T03:32:18.276Z"
   },
   {
    "duration": 19,
    "start_time": "2021-07-06T03:32:18.297Z"
   },
   {
    "duration": 204,
    "start_time": "2021-07-06T03:32:18.318Z"
   },
   {
    "duration": 17,
    "start_time": "2021-07-06T03:32:18.523Z"
   },
   {
    "duration": 15,
    "start_time": "2021-07-06T03:32:18.542Z"
   },
   {
    "duration": 171,
    "start_time": "2021-07-06T03:32:18.558Z"
   },
   {
    "duration": 3,
    "start_time": "2021-07-06T03:32:18.730Z"
   },
   {
    "duration": 9,
    "start_time": "2021-07-06T03:32:18.734Z"
   },
   {
    "duration": 16,
    "start_time": "2021-07-06T03:32:18.744Z"
   },
   {
    "duration": 3,
    "start_time": "2021-07-06T03:32:18.761Z"
   },
   {
    "duration": 13,
    "start_time": "2021-07-06T03:32:18.765Z"
   },
   {
    "duration": 7,
    "start_time": "2021-07-06T03:32:18.780Z"
   },
   {
    "duration": 16,
    "start_time": "2021-07-06T03:32:18.789Z"
   },
   {
    "duration": 13,
    "start_time": "2021-07-06T03:32:18.807Z"
   },
   {
    "duration": 20,
    "start_time": "2021-07-06T03:32:18.822Z"
   },
   {
    "duration": 7,
    "start_time": "2021-07-06T03:32:18.843Z"
   },
   {
    "duration": 6,
    "start_time": "2021-07-06T03:32:18.852Z"
   },
   {
    "duration": 7,
    "start_time": "2021-07-06T03:32:18.859Z"
   },
   {
    "duration": 76127,
    "start_time": "2021-07-06T03:32:18.867Z"
   },
   {
    "duration": 5,
    "start_time": "2021-07-06T03:33:34.998Z"
   },
   {
    "duration": 10,
    "start_time": "2021-07-06T03:33:35.005Z"
   },
   {
    "duration": 13,
    "start_time": "2021-07-06T03:33:35.016Z"
   },
   {
    "duration": 21,
    "start_time": "2021-07-06T03:33:35.031Z"
   },
   {
    "duration": 17,
    "start_time": "2021-07-06T03:33:35.053Z"
   },
   {
    "duration": 5,
    "start_time": "2021-07-06T03:33:35.072Z"
   },
   {
    "duration": 2576,
    "start_time": "2021-07-06T03:33:35.078Z"
   },
   {
    "duration": 3,
    "start_time": "2021-07-06T03:33:37.656Z"
   },
   {
    "duration": 148,
    "start_time": "2021-07-06T03:33:37.660Z"
   },
   {
    "duration": 156,
    "start_time": "2021-07-06T03:33:37.810Z"
   },
   {
    "duration": 148,
    "start_time": "2021-07-06T03:33:37.968Z"
   },
   {
    "duration": 1696,
    "start_time": "2021-07-06T03:33:38.117Z"
   },
   {
    "duration": 506,
    "start_time": "2021-07-06T03:33:39.815Z"
   },
   {
    "duration": 1692,
    "start_time": "2021-07-06T03:33:40.323Z"
   },
   {
    "duration": 1541,
    "start_time": "2021-07-06T03:33:42.017Z"
   },
   {
    "duration": 3,
    "start_time": "2021-07-06T03:33:43.559Z"
   },
   {
    "duration": 9,
    "start_time": "2021-07-06T03:33:43.563Z"
   },
   {
    "duration": 14,
    "start_time": "2021-07-06T03:33:43.573Z"
   },
   {
    "duration": 10,
    "start_time": "2021-07-06T03:33:43.589Z"
   },
   {
    "duration": 8,
    "start_time": "2021-07-06T03:33:43.600Z"
   },
   {
    "duration": 1728,
    "start_time": "2021-07-06T03:33:43.716Z"
   },
   {
    "duration": 48026,
    "start_time": "2021-07-06T03:33:45.446Z"
   },
   {
    "duration": 3,
    "start_time": "2021-07-06T03:34:33.473Z"
   },
   {
    "duration": 843457,
    "start_time": "2021-07-06T03:34:33.478Z"
   },
   {
    "duration": 6,
    "start_time": "2021-07-06T03:48:36.936Z"
   },
   {
    "duration": 50867,
    "start_time": "2021-07-06T03:48:36.943Z"
   },
   {
    "duration": 108,
    "start_time": "2021-07-06T03:49:27.811Z"
   }
  ],
  "kernelspec": {
   "display_name": "Python 3 (ipykernel)",
   "language": "python",
   "name": "python3"
  },
  "language_info": {
   "codemirror_mode": {
    "name": "ipython",
    "version": 3
   },
   "file_extension": ".py",
   "mimetype": "text/x-python",
   "name": "python",
   "nbconvert_exporter": "python",
   "pygments_lexer": "ipython3",
   "version": "3.9.13"
  },
  "toc": {
   "base_numbering": 1,
   "nav_menu": {},
   "number_sections": true,
   "sideBar": true,
   "skip_h1_title": true,
   "title_cell": "Table of Contents",
   "title_sidebar": "Contents",
   "toc_cell": false,
   "toc_position": {},
   "toc_section_display": true,
   "toc_window_display": false
  }
 },
 "nbformat": 4,
 "nbformat_minor": 5
}
